{
 "cells": [
  {
   "cell_type": "markdown",
   "metadata": {},
   "source": [
    "<img src=\"../../../images/qiskit-heading.gif\" alt=\"Note: In order for images to show up in this jupyter notebook you need to select File => Trusted Notebook\" width=\"500 px\" align=\"left\">"
   ]
  },
  {
   "cell_type": "markdown",
   "metadata": {},
   "source": [
    "# _*Qiskit Aqua: Pricing European Call Options*_ \n",
    "\n",
    "The latest version of this notebook is available on https://github.com/Qiskit/qiskit-tutorials.\n",
    "\n",
    "***\n",
    "### Contributors\n",
    "Stefan Woerner<sup>[1]</sup>, Daniel Egger<sup>[1]</sup>, Shaohan Hu<sup>[1]</sup>, Stephen Wood<sup>[1]</sup>, Marco Pistoia<sup>[1]</sup>\n",
    "### Affliation\n",
    "- <sup>[1]</sup>IBMQ"
   ]
  },
  {
   "cell_type": "markdown",
   "metadata": {},
   "source": [
    "### Introduction\n",
    "<br>\n",
    "Suppose a European call option with strike price $K$ and an underlying asset whose spot price at maturity $S_T$ follows a given random distribution.\n",
    "The corresponding payoff function is defined as:\n",
    "<br>\n",
    "<br>\n",
    "$$\\max\\{S - K, 0\\}$$\n",
    "<br>\n",
    "In the following, a quantum algorithm based on amplitude estimation is used to estimate the expected payoff, i.e., the fair price before discounting, for the option:\n",
    "<br>\n",
    "<br>\n",
    "$$\\mathbb{E}\\left[ \\max\\{S - K, 0\\} \\right]$$\n",
    "<br>\n",
    "as well as the corresponding $\\Delta$, i.e., the derivative of the option price with respect to the spot price, defined as:\n",
    "<br>\n",
    "<br>\n",
    "$$\n",
    "\\Delta = \\mathbb{P}\\left[S \\geq K\\right]\n",
    "$$\n",
    "<br>\n",
    "The approximation of the objective function is explained in detail in the following paper:<br>\n",
    "<a href=\"https://arxiv.org/abs/1806.06893\">Quantum Risk Analysis. Woerner, Egger. 2018.</a>"
   ]
  },
  {
   "cell_type": "code",
   "execution_count": 2,
   "metadata": {
    "ExecuteTime": {
     "end_time": "2019-04-26T20:42:26.932936Z",
     "start_time": "2019-04-26T20:42:07.775029Z"
    }
   },
   "outputs": [
    {
     "name": "stderr",
     "output_type": "stream",
     "text": [
      "C:\\Users\\peace\\Anaconda3_2\\lib\\importlib\\_bootstrap.py:219: RuntimeWarning: numpy.ufunc size changed, may indicate binary incompatibility. Expected 216, got 192\n",
      "  return f(*args, **kwds)\n"
     ]
    }
   ],
   "source": [
    "import matplotlib.pyplot as plt\n",
    "%matplotlib inline\n",
    "import numpy as np\n",
    "from qiskit import BasicAer\n",
    "from qiskit_aqua.algorithms import AmplitudeEstimation\n",
    "from qiskit_aqua.components.uncertainty_problems import EuropeanCallExpectedValue, EuropeanCallDelta\n",
    "from qiskit_aqua.components.random_distributions import LogNormalDistribution"
   ]
  },
  {
   "cell_type": "markdown",
   "metadata": {},
   "source": [
    "### Uncertainty Model\n",
    "\n",
    "We construct a circuit factory to load a log-normal random distribution into a quantum state.\n",
    "The distribution is truncated to a given interval $[low, high]$ and discretized using $2^n$ grid points, where $n$ denotes the number of qubits used.\n",
    "The unitary operator corresponding to the circuit factory implements the following: \n",
    "$$\\big|0\\rangle_{n} \\mapsto \\big|\\psi\\rangle_{n} = \\sum_{i=0}^{2^n-1} \\sqrt{p_i}\\big|i\\rangle_{n},$$\n",
    "where $p_i$ denote the probabilities corresponding to the truncated and discretized distribution and where $i$ is mapped to the right interval using the affine map:\n",
    "$$ \\{0, \\ldots, 2^n-1\\} \\ni i \\mapsto \\frac{high - low}{2^n - 1} * i + low \\in [low, high].$$"
   ]
  },
  {
   "cell_type": "code",
   "execution_count": 13,
   "metadata": {
    "ExecuteTime": {
     "end_time": "2019-04-26T21:23:41.582689Z",
     "start_time": "2019-04-26T21:22:59.003198Z"
    }
   },
   "outputs": [
    {
     "name": "stdout",
     "output_type": "stream",
     "text": [
      "Loading data...\n",
      "original train data shape: 502732,\t60 \n",
      "\n",
      " \t:\n",
      "original prediction data shape: 333924,\t60 \n",
      "\n",
      " \t:\n",
      "total training / valdation shape                       id   era data_type  feature1  feature2  feature3  \\\n",
      "0       n0003126ff2349f6  era1     train   0.54836   0.31077   0.37524   \n",
      "1       n003d773d29b57ec  era1     train   0.34712   0.40275   0.42747   \n",
      "2       n0074df2dc6810b6  era1     train   0.50871   0.48639   0.47544   \n",
      "3       n0090630f530903e  era1     train   0.61363   0.40268   0.53779   \n",
      "4       n00af19089546fe9  era1     train   0.30704   0.47273   0.54495   \n",
      "5       n011d2da12b1e735  era1     train   0.52336   0.59136   0.60506   \n",
      "6       n014149cadeee55d  era1     train   0.30875   0.62510   0.35229   \n",
      "7       n0148a4dcf539aba  era1     train   0.40632   0.30590   0.43227   \n",
      "8       n015855690d31908  era1     train   0.48193   0.27060   0.50228   \n",
      "9       n0169447f4d6a10e  era1     train   0.51191   0.53663   0.42109   \n",
      "10      n01703ba4eff8fe7  era1     train   0.51829   0.52928   0.41085   \n",
      "11      n01b43e631083764  era1     train   0.61895   0.44075   0.61466   \n",
      "12      n01d1368b061433f  era1     train   0.45529   0.28276   0.61272   \n",
      "13      n01d5bfde31734cd  era1     train   0.48717   0.28982   0.38631   \n",
      "14      n0236fa89e606631  era1     train   0.42585   0.56616   0.62732   \n",
      "15      n023dfa017b93739  era1     train   0.51657   0.52352   0.41695   \n",
      "16      n0294f04019898e8  era1     train   0.45073   0.56795   0.25294   \n",
      "17      n029adf0fa156932  era1     train   0.53833   0.43619   0.58892   \n",
      "18      n02ad6457589c4af  era1     train   0.33576   0.54933   0.39919   \n",
      "19      n02bd240c01b24bd  era1     train   0.47469   0.38517   0.53743   \n",
      "20      n02c48c74a9c9719  era1     train   0.83431   0.36147   0.69324   \n",
      "21      n02cc6384ea5a025  era1     train   0.49314   0.31000   0.36538   \n",
      "22      n02e0356c793b120  era1     train   0.65183   0.40688   0.52271   \n",
      "23      n02e96eeb774238f  era1     train   0.67869   0.46261   0.38758   \n",
      "24      n030964ace7cfa93  era1     train   0.59925   0.43286   0.46698   \n",
      "25      n0311b410c7f8b9d  era1     train   0.37634   0.43578   0.43619   \n",
      "26      n03158868e546c31  era1     train   0.50558   0.47651   0.53912   \n",
      "27      n032f0f9107b0115  era1     train   0.46657   0.28710   0.44637   \n",
      "28      n03484f670162e63  era1     train   0.33571   0.45678   0.25402   \n",
      "29      n03534209c17edf5  era1     train   0.35224   0.48464   0.47109   \n",
      "...                  ...   ...       ...       ...       ...       ...   \n",
      "333894  nfec21cd5c5b33ad  eraX      live   0.38965   0.45030   0.52700   \n",
      "333895  nfec98c25ae22d54  eraX      live   0.69356   0.47442   0.50694   \n",
      "333896  nfed0b30d2d442cc  eraX      live   0.38492   0.42707   0.44937   \n",
      "333897  nfed69bed5d087e9  eraX      live   0.48369   0.62619   0.38787   \n",
      "333898  nfed8728787c35f7  eraX      live   0.49617   0.44814   0.45066   \n",
      "333899  nfeda5d5d6cfa79e  eraX      live   0.62005   0.29275   0.30218   \n",
      "333900  nfeeb6e4cd56ca3a  eraX      live   0.51599   0.49497   0.68660   \n",
      "333901  nfef1f9ddc8df2af  eraX      live   0.34322   0.31093   0.49169   \n",
      "333902  nff08e8747d575c2  eraX      live   0.49919   0.54032   0.71305   \n",
      "333903  nff1e7fb2384e709  eraX      live   0.62816   0.54499   0.67274   \n",
      "333904  nff3a0d69e6a871e  eraX      live   0.76577   0.46736   0.48493   \n",
      "333905  nff430c26ed109de  eraX      live   0.47557   0.35675   0.57149   \n",
      "333906  nff62b58beb64c4f  eraX      live   0.42865   0.60958   0.56111   \n",
      "333907  nff7234fd21aa8ed  eraX      live   0.39509   0.46559   0.51895   \n",
      "333908  nff73210358cd504  eraX      live   0.65093   0.43259   0.42214   \n",
      "333909  nff770cbee3cd1bf  eraX      live   0.27143   0.73245   0.57361   \n",
      "333910  nff939fd6397eb8d  eraX      live   0.37668   0.35264   0.45309   \n",
      "333911  nff94fb2bec22d22  eraX      live   0.31030   0.40159   0.46879   \n",
      "333912  nff9af0d05671f92  eraX      live   0.46025   0.33584   0.45436   \n",
      "333913  nffba5bfdde304d5  eraX      live   0.40388   0.34720   0.62989   \n",
      "333914  nffbe892b3bf9fe7  eraX      live   0.65109   0.27549   0.19570   \n",
      "333915  nffc2a2b2ef54a97  eraX      live   0.45028   0.43775   0.64112   \n",
      "333916  nffd3c0fbc2de0e8  eraX      live   0.40023   0.39563   0.37794   \n",
      "333917  nffd754673e8f726  eraX      live   0.55810   0.50070   0.37339   \n",
      "333918  nffdb5c4428c68c3  eraX      live   0.47117   0.49835   0.43437   \n",
      "333919  nffdb97eb02f3e90  eraX      live   0.78880   0.47460   0.61443   \n",
      "333920  nffe15031d080c66  eraX      live   0.49492   0.50500   0.57896   \n",
      "333921  nffedbfc9ba8f6b2  eraX      live   0.31902   0.52280   0.52200   \n",
      "333922  nfff54490e982036  eraX      live   0.48698   0.59598   0.56342   \n",
      "333923  nfffcee8f1fddd45  eraX      live   0.56285   0.57647   0.52050   \n",
      "\n",
      "        feature4  feature5  feature6  feature7  ...  feature48  feature49  \\\n",
      "0        0.49490   0.53217   0.48388   0.50220  ...    0.55239    0.64054   \n",
      "1        0.44006   0.47866   0.44055   0.59182  ...    0.46029    0.62941   \n",
      "2        0.40306   0.53436   0.64028   0.51420  ...    0.40596    0.54731   \n",
      "3        0.37045   0.58711   0.59900   0.62428  ...    0.53878    0.47776   \n",
      "4        0.48692   0.47348   0.34695   0.41506  ...    0.46431    0.49482   \n",
      "5        0.30085   0.41742   0.47290   0.56301  ...    0.55917    0.31260   \n",
      "6        0.48021   0.71347   0.36977   0.57899  ...    0.40538    0.52690   \n",
      "7        0.61999   0.51016   0.52714   0.74017  ...    0.77664    0.51623   \n",
      "8        0.63037   0.50734   0.45545   0.41927  ...    0.52887    0.44384   \n",
      "9        0.38838   0.51222   0.53249   0.70187  ...    0.58353    0.42566   \n",
      "10       0.44842   0.49727   0.66198   0.53513  ...    0.54271    0.43434   \n",
      "11       0.51365   0.45339   0.51101   0.39488  ...    0.33293    0.30265   \n",
      "12       0.48615   0.54590   0.59111   0.55893  ...    0.55932    0.46798   \n",
      "13       0.58569   0.46994   0.51753   0.41116  ...    0.55347    0.42172   \n",
      "14       0.40727   0.36868   0.51526   0.29604  ...    0.53480    0.48525   \n",
      "15       0.39198   0.54481   0.55880   0.48240  ...    0.45665    0.50711   \n",
      "16       0.37918   0.65944   0.61828   0.62431  ...    0.44610    0.57642   \n",
      "17       0.53740   0.32951   0.44737   0.39056  ...    0.64044    0.22801   \n",
      "18       0.51449   0.44705   0.53717   0.53424  ...    0.53355    0.49124   \n",
      "19       0.46013   0.63523   0.48265   0.50777  ...    0.48970    0.41920   \n",
      "20       0.49827   0.22947   0.46324   0.49544  ...    0.75846    0.31290   \n",
      "21       0.49332   0.68842   0.59665   0.57461  ...    0.54245    0.40880   \n",
      "22       0.69467   0.62700   0.50894   0.44084  ...    0.64244    0.17882   \n",
      "23       0.33676   0.43296   0.56874   0.67007  ...    0.63132    0.46647   \n",
      "24       0.39413   0.58728   0.38304   0.60579  ...    0.50472    0.33878   \n",
      "25       0.45756   0.39833   0.58444   0.48982  ...    0.58255    0.52865   \n",
      "26       0.48904   0.43819   0.53960   0.55395  ...    0.49973    0.47976   \n",
      "27       0.50982   0.63898   0.45895   0.50982  ...    0.52851    0.43489   \n",
      "28       0.47962   0.50144   0.58369   0.62196  ...    0.79120    0.72922   \n",
      "29       0.41567   0.57632   0.34524   0.58772  ...    0.47177    0.55393   \n",
      "...          ...       ...       ...       ...  ...        ...        ...   \n",
      "333894   0.37210   0.46008   0.43412   0.63377  ...    0.57366    0.62540   \n",
      "333895   0.41392   0.47895   0.66038   0.49995  ...    0.62853    0.29633   \n",
      "333896   0.42662   0.54812   0.49072   0.66651  ...    0.48536    0.48631   \n",
      "333897   0.14462   0.56918   0.42828   0.64804  ...    0.54346    0.46759   \n",
      "333898   0.42089   0.68011   0.53420   0.57086  ...    0.43619    0.35083   \n",
      "333899   0.48158   0.45471   0.62305   0.59370  ...    0.43859    0.48730   \n",
      "333900   0.51868   0.35298   0.41149   0.45650  ...    0.50594    0.37331   \n",
      "333901   0.59407   0.61595   0.40386   0.65190  ...    0.49023    0.60424   \n",
      "333902   0.49465   0.71118   0.48220   0.53299  ...    0.41879    0.64955   \n",
      "333903   0.39532   0.30184   0.20910   0.33041  ...    0.59970    0.59045   \n",
      "333904   0.37545   0.50035   0.64585   0.55769  ...    0.59497    0.38776   \n",
      "333905   0.42187   0.47466   0.37525   0.58125  ...    0.52464    0.57618   \n",
      "333906   0.35536   0.48186   0.49876   0.36463  ...    0.58487    0.44765   \n",
      "333907   0.32089   0.69535   0.53294   0.43689  ...    0.40198    0.54004   \n",
      "333908   0.43413   0.64938   0.66657   0.62922  ...    0.64106    0.46986   \n",
      "333909   0.40323   0.49161   0.38526   0.35060  ...    0.46227    0.52369   \n",
      "333910   0.55636   0.50846   0.47913   0.55327  ...    0.41672    0.52240   \n",
      "333911   0.45420   0.58696   0.25287   0.48149  ...    0.44196    0.68500   \n",
      "333912   0.46719   0.55669   0.59600   0.53443  ...    0.54857    0.59703   \n",
      "333913   0.50223   0.51333   0.59573   0.19037  ...    0.38403    0.52610   \n",
      "333914   0.29505   0.64040   0.65133   0.82701  ...    0.68128    0.66397   \n",
      "333915   0.62979   0.49950   0.31329   0.29323  ...    0.47624    0.54389   \n",
      "333916   0.41597   0.58451   0.46737   0.42167  ...    0.36073    0.65194   \n",
      "333917   0.22398   0.53908   0.69242   0.73459  ...    0.69416    0.50256   \n",
      "333918   0.40502   0.52326   0.55660   0.46356  ...    0.54289    0.53682   \n",
      "333919   0.29016   0.54173   0.49867   0.54847  ...    0.48866    0.35555   \n",
      "333920   0.39936   0.27492   0.42211   0.20965  ...    0.56749    0.54948   \n",
      "333921   0.42636   0.55033   0.51607   0.55940  ...    0.47780    0.53887   \n",
      "333922   0.56995   0.54684   0.36167   0.45931  ...    0.67469    0.58980   \n",
      "333923   0.41839   0.56140   0.59366   0.51704  ...    0.62566    0.45478   \n",
      "\n",
      "        feature50  target_bernie  target_elizabeth  target_jordan  target_ken  \\\n",
      "0         0.52182            1.0               1.0            1.0         1.0   \n",
      "1         0.55010            1.0               1.0            1.0         1.0   \n",
      "2         0.39061            0.0               0.0            1.0         0.0   \n",
      "3         0.36835            0.0               0.0            0.0         0.0   \n",
      "4         0.60452            1.0               1.0            1.0         1.0   \n",
      "5         0.35691            0.0               0.0            0.0         0.0   \n",
      "6         0.39767            1.0               1.0            1.0         1.0   \n",
      "7         0.49104            0.0               0.0            0.0         0.0   \n",
      "8         0.57269            0.0               0.0            0.0         0.0   \n",
      "9         0.50082            1.0               1.0            1.0         1.0   \n",
      "10        0.52720            0.0               0.0            0.0         0.0   \n",
      "11        0.45951            0.0               0.0            0.0         0.0   \n",
      "12        0.53359            1.0               1.0            1.0         1.0   \n",
      "13        0.72972            0.0               0.0            0.0         0.0   \n",
      "14        0.59524            1.0               1.0            1.0         1.0   \n",
      "15        0.59955            0.0               0.0            0.0         0.0   \n",
      "16        0.62569            0.0               0.0            0.0         0.0   \n",
      "17        0.44203            1.0               1.0            1.0         1.0   \n",
      "18        0.39731            1.0               1.0            1.0         1.0   \n",
      "19        0.38751            0.0               0.0            0.0         0.0   \n",
      "20        0.61816            1.0               1.0            1.0         1.0   \n",
      "21        0.53372            0.0               1.0            0.0         0.0   \n",
      "22        0.40123            0.0               0.0            0.0         0.0   \n",
      "23        0.53402            0.0               0.0            0.0         0.0   \n",
      "24        0.56262            0.0               0.0            0.0         0.0   \n",
      "25        0.63495            0.0               0.0            0.0         0.0   \n",
      "26        0.44513            0.0               0.0            0.0         0.0   \n",
      "27        0.48806            0.0               0.0            0.0         1.0   \n",
      "28        0.49451            0.0               0.0            0.0         0.0   \n",
      "29        0.49058            1.0               1.0            1.0         1.0   \n",
      "...           ...            ...               ...            ...         ...   \n",
      "333894    0.60923            NaN               NaN            NaN         NaN   \n",
      "333895    0.44433            NaN               NaN            NaN         NaN   \n",
      "333896    0.48360            NaN               NaN            NaN         NaN   \n",
      "333897    0.35499            NaN               NaN            NaN         NaN   \n",
      "333898    0.58263            NaN               NaN            NaN         NaN   \n",
      "333899    0.59974            NaN               NaN            NaN         NaN   \n",
      "333900    0.53860            NaN               NaN            NaN         NaN   \n",
      "333901    0.54947            NaN               NaN            NaN         NaN   \n",
      "333902    0.39121            NaN               NaN            NaN         NaN   \n",
      "333903    0.55970            NaN               NaN            NaN         NaN   \n",
      "333904    0.58773            NaN               NaN            NaN         NaN   \n",
      "333905    0.60564            NaN               NaN            NaN         NaN   \n",
      "333906    0.34334            NaN               NaN            NaN         NaN   \n",
      "333907    0.43746            NaN               NaN            NaN         NaN   \n",
      "333908    0.42161            NaN               NaN            NaN         NaN   \n",
      "333909    0.61633            NaN               NaN            NaN         NaN   \n",
      "333910    0.62184            NaN               NaN            NaN         NaN   \n",
      "333911    0.49960            NaN               NaN            NaN         NaN   \n",
      "333912    0.58098            NaN               NaN            NaN         NaN   \n",
      "333913    0.47645            NaN               NaN            NaN         NaN   \n",
      "333914    0.49876            NaN               NaN            NaN         NaN   \n",
      "333915    0.30022            NaN               NaN            NaN         NaN   \n",
      "333916    0.60008            NaN               NaN            NaN         NaN   \n",
      "333917    0.49471            NaN               NaN            NaN         NaN   \n",
      "333918    0.32950            NaN               NaN            NaN         NaN   \n",
      "333919    0.50956            NaN               NaN            NaN         NaN   \n",
      "333920    0.40728            NaN               NaN            NaN         NaN   \n",
      "333921    0.42454            NaN               NaN            NaN         NaN   \n",
      "333922    0.41426            NaN               NaN            NaN         NaN   \n",
      "333923    0.37560            NaN               NaN            NaN         NaN   \n",
      "\n",
      "        target_charles  target_frank  target_hillary  \n",
      "0                  1.0           1.0             1.0  \n",
      "1                  1.0           1.0             1.0  \n",
      "2                  0.0           0.0             0.0  \n",
      "3                  0.0           0.0             0.0  \n",
      "4                  1.0           1.0             1.0  \n",
      "5                  0.0           0.0             0.0  \n",
      "6                  1.0           1.0             1.0  \n",
      "7                  0.0           0.0             0.0  \n",
      "8                  0.0           0.0             0.0  \n",
      "9                  1.0           1.0             1.0  \n",
      "10                 0.0           0.0             0.0  \n",
      "11                 0.0           0.0             0.0  \n",
      "12                 1.0           1.0             1.0  \n",
      "13                 0.0           0.0             0.0  \n",
      "14                 1.0           1.0             1.0  \n",
      "15                 1.0           1.0             0.0  \n",
      "16                 0.0           0.0             0.0  \n",
      "17                 1.0           1.0             1.0  \n",
      "18                 1.0           1.0             1.0  \n",
      "19                 0.0           0.0             1.0  \n",
      "20                 1.0           1.0             1.0  \n",
      "21                 0.0           1.0             1.0  \n",
      "22                 0.0           0.0             0.0  \n",
      "23                 0.0           0.0             0.0  \n",
      "24                 0.0           0.0             0.0  \n",
      "25                 0.0           0.0             0.0  \n",
      "26                 0.0           0.0             0.0  \n",
      "27                 0.0           0.0             1.0  \n",
      "28                 0.0           0.0             0.0  \n",
      "29                 1.0           1.0             1.0  \n",
      "...                ...           ...             ...  \n",
      "333894             NaN           NaN             NaN  \n",
      "333895             NaN           NaN             NaN  \n",
      "333896             NaN           NaN             NaN  \n",
      "333897             NaN           NaN             NaN  \n",
      "333898             NaN           NaN             NaN  \n",
      "333899             NaN           NaN             NaN  \n",
      "333900             NaN           NaN             NaN  \n",
      "333901             NaN           NaN             NaN  \n",
      "333902             NaN           NaN             NaN  \n",
      "333903             NaN           NaN             NaN  \n",
      "333904             NaN           NaN             NaN  \n",
      "333905             NaN           NaN             NaN  \n",
      "333906             NaN           NaN             NaN  \n",
      "333907             NaN           NaN             NaN  \n",
      "333908             NaN           NaN             NaN  \n",
      "333909             NaN           NaN             NaN  \n",
      "333910             NaN           NaN             NaN  \n",
      "333911             NaN           NaN             NaN  \n",
      "333912             NaN           NaN             NaN  \n",
      "333913             NaN           NaN             NaN  \n",
      "333914             NaN           NaN             NaN  \n",
      "333915             NaN           NaN             NaN  \n",
      "333916             NaN           NaN             NaN  \n",
      "333917             NaN           NaN             NaN  \n",
      "333918             NaN           NaN             NaN  \n",
      "333919             NaN           NaN             NaN  \n",
      "333920             NaN           NaN             NaN  \n",
      "333921             NaN           NaN             NaN  \n",
      "333922             NaN           NaN             NaN  \n",
      "333923             NaN           NaN             NaN  \n",
      "\n",
      "[836656 rows x 60 columns]\n",
      "['feature1', 'feature2', 'feature3', 'feature4', 'feature5', 'feature6', 'feature7', 'feature8', 'feature9', 'feature10', 'feature11', 'feature12', 'feature13', 'feature14', 'feature15', 'feature16', 'feature17', 'feature18', 'feature19', 'feature20', 'feature21', 'feature22', 'feature23', 'feature24', 'feature25', 'feature26', 'feature27', 'feature28', 'feature29', 'feature30', 'feature31', 'feature32', 'feature33', 'feature34', 'feature35', 'feature36', 'feature37', 'feature38', 'feature39', 'feature40', 'feature41', 'feature42', 'feature43', 'feature44', 'feature45', 'feature46', 'feature47', 'feature48', 'feature49', 'feature50']\n"
     ]
    },
    {
     "name": "stdout",
     "output_type": "stream",
     "text": [
      "mu -1.0\n",
      "sigma 0.0\n",
      "mean 0.36787944117144233\n",
      "variance 0.0\n",
      "stddev 0.0\n",
      "low 0.36787944117144233\n"
     ]
    },
    {
     "ename": "ValueError",
     "evalue": "invalid number of arguments",
     "output_type": "error",
     "traceback": [
      "\u001b[1;31m---------------------------------------------------------------------------\u001b[0m",
      "\u001b[1;31mValueError\u001b[0m                                Traceback (most recent call last)",
      "\u001b[1;32m<ipython-input-13-7c549fdadbe0>\u001b[0m in \u001b[0;36m<module>\u001b[1;34m\u001b[0m\n\u001b[0;32m     61\u001b[0m \u001b[0mlow\u001b[0m  \u001b[1;33m=\u001b[0m \u001b[0mnp\u001b[0m\u001b[1;33m.\u001b[0m\u001b[0mmaximum\u001b[0m\u001b[1;33m(\u001b[0m\u001b[1;36m0\u001b[0m\u001b[1;33m,\u001b[0m \u001b[0mmean\u001b[0m \u001b[1;33m-\u001b[0m \u001b[1;36m3\u001b[0m\u001b[1;33m*\u001b[0m\u001b[0mstddev\u001b[0m\u001b[1;33m)\u001b[0m\u001b[1;33m\u001b[0m\u001b[1;33m\u001b[0m\u001b[0m\n\u001b[0;32m     62\u001b[0m \u001b[0mprint\u001b[0m\u001b[1;33m(\u001b[0m\u001b[1;34m'low {}'\u001b[0m\u001b[1;33m.\u001b[0m\u001b[0mformat\u001b[0m\u001b[1;33m(\u001b[0m\u001b[0mlow\u001b[0m\u001b[1;33m)\u001b[0m\u001b[1;33m)\u001b[0m\u001b[1;33m\u001b[0m\u001b[1;33m\u001b[0m\u001b[0m\n\u001b[1;32m---> 63\u001b[1;33m \u001b[0mhigh\u001b[0m \u001b[1;33m=\u001b[0m \u001b[0mnp\u001b[0m\u001b[1;33m.\u001b[0m\u001b[0mmaximum\u001b[0m\u001b[1;33m(\u001b[0m\u001b[0mX\u001b[0m\u001b[1;33m)\u001b[0m\u001b[1;33m\u001b[0m\u001b[1;33m\u001b[0m\u001b[0m\n\u001b[0m\u001b[0;32m     64\u001b[0m \u001b[0mprint\u001b[0m\u001b[1;33m(\u001b[0m\u001b[1;34m'high {}'\u001b[0m\u001b[1;33m.\u001b[0m\u001b[0mformat\u001b[0m\u001b[1;33m(\u001b[0m\u001b[0mhigh\u001b[0m\u001b[1;33m)\u001b[0m\u001b[1;33m)\u001b[0m\u001b[1;33m\u001b[0m\u001b[1;33m\u001b[0m\u001b[0m\n\u001b[0;32m     65\u001b[0m \u001b[1;33m\u001b[0m\u001b[0m\n",
      "\u001b[1;31mValueError\u001b[0m: invalid number of arguments"
     ]
    }
   ],
   "source": [
    "# number of qubits to represent the uncertainty\n",
    "import numpy as np \n",
    "import pandas as pd \n",
    "from sklearn.preprocessing import MinMaxScaler\n",
    "import keras\n",
    "\n",
    "\n",
    "np.random.seed(0)\n",
    "print(\"Loading data...\")\n",
    "# Load the data from the CSV files\n",
    "training_data = pd.read_csv('numerai_training_data.csv', header=0)\n",
    "print('original train data shape: {},\\t{} \\n\\n \\t:'.format(training_data.shape[0],training_data.shape[1]))\n",
    "\n",
    "prediction_data = pd.read_csv('numerai_tournament_data.csv', header=0)\n",
    "print('original prediction data shape: {},\\t{} \\n\\n \\t:'.format(prediction_data.shape[0],prediction_data.shape[1]))\n",
    "\n",
    "complete_training_data = pd.concat([training_data, prediction_data])\n",
    "print('total training / valdation shape {}'.format(complete_training_data))\n",
    "\n",
    "# Transform the loaded CSV data into numpy arrays\n",
    "\n",
    "features = [f for f in list(training_data) if \"feature\" in f]\n",
    "print(features)\n",
    "\n",
    "X = training_data[features]\n",
    "mini= MinMaxScaler(feature_range=(0,1)) \n",
    "X = mini.fit_transform(X)\n",
    "\n",
    "Y = training_data[\"target_frank\"]\n",
    "Y= keras.utils.to_categorical(Y,2) \n",
    "\n",
    "x_prediction = prediction_data[features]\n",
    "x_prediction = mini.fit_transform(x_prediction)\n",
    "\n",
    "ids = prediction_data[\"id\"]  \n",
    "num_uncertainty_qubits = 3\n",
    "\n",
    "# parameters for considered random distribution\n",
    "#S = 2.0 # initial spot price\n",
    "S = np.mean(X)\n",
    "vol = 0.4 # volatility of 40% // volatility = numpy.array(.5)\n",
    "r = 0.05 # annual interest rate of 4%\n",
    "T = 14 / 365 # 40 days to maturity out of 365 ,,/ 14 days to maturity out of 30\n",
    "\n",
    "# resulting parameters for log-normal distribution\n",
    "# mu = ((r - 0.5 * vol**2) * T + np.log(S)) \n",
    "mu = np.log(S)//333923\n",
    "print('mu {}'.format(mu))\n",
    "# sigma = vol * np.sqrt(T)\n",
    "sigma = np.std(np.log(S))\n",
    "print('sigma {}'.format(sigma))\n",
    "mean = np.exp(mu + sigma**2/2)\n",
    "print('mean {}'.format(mean))\n",
    "variance = (np.exp(sigma**2) - 1) * np.exp(2*mu + sigma**2)\n",
    "print('variance {}'.format(variance))\n",
    "stddev = np.sqrt(variance)\n",
    "print('stddev {}'.format(stddev))\n",
    "\n",
    "\n",
    "# lowest and highest value considered for the spot price; in between, an equidistant discretization is considered.\n",
    "low  = np.maximum(0, mean - 3*stddev)\n",
    "print('low {}'.format(low))\n",
    "high = np.maximum(X)\n",
    "print('high {}'.format(high))\n",
    "\n",
    "\n",
    "\n",
    "# construct circuit factory for uncertainty model\n",
    "uncertainty_model = LogNormalDistribution(num_uncertainty_qubits, mu=mu, sigma=sigma, low=low, high=high) \n"
   ]
  },
  {
   "cell_type": "code",
   "execution_count": 5,
   "metadata": {
    "ExecuteTime": {
     "end_time": "2019-04-25T18:02:46.809892Z",
     "start_time": "2019-04-25T18:02:46.035210Z"
    }
   },
   "outputs": [
    {
     "name": "stdout",
     "output_type": "stream",
     "text": [
      "[[0.48287    0.42597949 0.43745252 0.47676    0.66380644 0.46966544\n",
      "  0.64155569 0.3059996  0.43455602 0.20842481 0.49156    0.37051389\n",
      "  0.41187026 0.37417    0.55629523 0.6739145  0.7947632  0.64277809\n",
      "  0.50981901 0.51707424 0.25647728 0.65324239 0.48000472 0.40592411\n",
      "  0.44758065 0.42259358 0.65974201 0.73651874 0.53646986 0.55558133\n",
      "  0.42333728 0.52625    0.21770003 0.47351188 0.54233    0.56709413\n",
      "  0.65508328 0.22795474 0.73870522 0.46195569 0.50929795 0.70529462\n",
      "  0.46105952 0.60217    0.33891    0.67416973 0.50034848 0.6266136\n",
      "  0.44036306 0.44699479]\n",
      " [0.51011    0.38041829 0.32597004 0.44538    0.45313787 0.34071526\n",
      "  0.7166497  0.54212267 0.43835962 0.56440133 0.54516    0.54874405\n",
      "  0.36665807 0.41724    0.54360384 0.37822292 0.38480426 0.53803011\n",
      "  0.64872748 0.5861773  0.3190131  0.58764615 0.36214858 0.43029288\n",
      "  0.54956144 0.5627207  0.41284723 0.32933473 0.45464413 0.31346353\n",
      "  0.41186486 0.52094    0.40572717 0.48986231 0.58033    0.48435428\n",
      "  0.61075059 0.74736605 0.60160519 0.62272937 0.45723548 0.43267172\n",
      "  0.60768468 0.61914    0.61347    0.45390455 0.57043868 0.71342513\n",
      "  0.60128714 0.33056189]\n",
      " [0.54132    0.50773681 0.52133532 0.36429    0.50115548 0.35236496\n",
      "  0.53134024 0.36378333 0.43713028 0.26526423 0.66008    0.50588645\n",
      "  0.58637653 0.36899    0.49312818 0.71352954 0.64195876 0.54215599\n",
      "  0.30968866 0.56786776 0.55910238 0.58010817 0.44876613 0.55875246\n",
      "  0.50581975 0.38527689 0.72054121 0.61961564 0.51701643 0.36702027\n",
      "  0.67480637 0.53674    0.23789115 0.24361934 0.3042     0.49594631\n",
      "  0.60333117 0.37192022 0.62080366 0.29049788 0.74460095 0.48445952\n",
      "  0.70487329 0.58291    0.31697    0.41671946 0.49196473 0.69507315\n",
      "  0.51353684 0.37749   ]\n",
      " [0.70262    0.35361759 0.30304964 0.35482    0.57347829 0.44735487\n",
      "  0.69420148 0.6232943  0.46883045 0.45822824 0.61966    0.60539125\n",
      "  0.50571856 0.46187    0.57767303 0.41570054 0.33475226 0.61553008\n",
      "  0.47646217 0.46922239 0.52845782 0.5389392  0.59222311 0.43998024\n",
      "  0.56418357 0.38664783 0.5626917  0.33492828 0.32380172 0.39466858\n",
      "  0.50690421 0.76438    0.3413865  0.44572244 0.45292    0.47683355\n",
      "  0.53584253 0.79309638 0.65519294 0.57832472 0.36906859 0.39712256\n",
      "  0.63064917 0.55123    0.59608    0.45620846 0.71405339 0.5278722\n",
      "  0.63495249 0.34820161]\n",
      " [0.71117    0.49112037 0.47821904 0.42956    0.41888552 0.46158996\n",
      "  0.59934972 0.5128107  0.39291606 0.42916518 0.48837    0.66383343\n",
      "  0.48752643 0.35398    0.63547147 0.52010967 0.36943911 0.560153\n",
      "  0.64087442 0.36870315 0.32532701 0.63425511 0.63507012 0.47817122\n",
      "  0.34756402 0.57905779 0.63870701 0.51145107 0.61210199 0.46394753\n",
      "  0.4561245  0.58362    0.41800269 0.37322643 0.55173    0.46620361\n",
      "  0.45780878 0.60302136 0.71636016 0.55839943 0.4382268  0.47534727\n",
      "  0.43313752 0.69448    0.61282    0.52893133 0.56120645 0.58811317\n",
      "  0.34681125 0.42348234]\n",
      " [0.53598    0.66296851 0.54939078 0.25014    0.52155216 0.36706357\n",
      "  0.52585544 0.50743967 0.2250113  0.24379883 0.51806    0.54642114\n",
      "  0.59772083 0.35516    0.59237228 0.41338406 0.38735619 0.71766716\n",
      "  0.57369062 0.32773963 0.48917688 0.56047779 0.55413329 0.57908303\n",
      "  0.52076405 0.51340825 0.68401819 0.41913491 0.66210838 0.46978932\n",
      "  0.5812413  0.52194    0.45711504 0.31034338 0.33298    0.42242846\n",
      "  0.59811811 0.44995491 0.59283512 0.46197616 0.59758565 0.59706463\n",
      "  0.54653134 0.56761    0.55753    0.55400938 0.55158029 0.55221601\n",
      "  0.40425443 0.42690272]\n",
      " [0.38775    0.50139566 0.38485613 0.33219    0.63417599 0.53290965\n",
      "  0.62673218 0.75760186 0.41513875 0.35623181 0.57788    0.35573177\n",
      "  0.58390141 0.5465     0.52189319 0.46366383 0.40474786 0.57638792\n",
      "  0.59053999 0.43970102 0.56447121 0.58510537 0.51493739 0.37757086\n",
      "  0.61978301 0.48146109 0.62446977 0.37476834 0.29453644 0.49022502\n",
      "  0.27651114 0.56876    0.54656762 0.49683066 0.43777    0.52547782\n",
      "  0.50097339 0.51663387 0.40652705 0.47042931 0.5485235  0.51422691\n",
      "  0.33986162 0.38535    0.65299    0.49165409 0.43627842 0.35470095\n",
      "  0.59337506 0.48077916]\n",
      " [0.52279    0.36094986 0.22821144 0.4901     0.58694211 0.3219377\n",
      "  0.68071801 0.42318369 0.38355416 0.28783252 0.51305    0.46077986\n",
      "  0.23199092 0.32096    0.59791268 0.55962399 0.68010894 0.61977415\n",
      "  0.58472765 0.46990285 0.18769794 0.81428105 0.48630828 0.36865676\n",
      "  0.36857749 0.54169956 0.66324422 0.59744359 0.59408522 0.23887003\n",
      "  0.40968459 0.36826    0.24867456 0.39513895 0.51003    0.35129237\n",
      "  0.54930781 0.52160456 0.75569257 0.52287776 0.56775369 0.57030709\n",
      "  0.51085856 0.61372    0.53154    0.52802129 0.55941859 0.81149957\n",
      "  0.54417667 0.570333  ]\n",
      " [0.60408    0.43442424 0.33461963 0.33308    0.67227659 0.63938445\n",
      "  0.66249766 0.5908767  0.56201864 0.31902987 0.50406    0.50882176\n",
      "  0.52129119 0.45751    0.63470913 0.41139212 0.2954119  0.76856378\n",
      "  0.56680984 0.47250953 0.4633884  0.69311461 0.61972466 0.30133926\n",
      "  0.63467534 0.53483445 0.63309478 0.2739046  0.33342202 0.49174347\n",
      "  0.34228285 0.53102    0.45930559 0.40058559 0.33862    0.63630604\n",
      "  0.54745836 0.53296028 0.61438291 0.42610653 0.36373247 0.48824509\n",
      "  0.50564517 0.53429    0.54268    0.48665461 0.63088252 0.56124139\n",
      "  0.57524277 0.487749  ]\n",
      " [0.43476    0.36663363 0.40142607 0.46421    0.59240801 0.41247785\n",
      "  0.42564353 0.58267658 0.53049709 0.4814603  0.62974    0.47981712\n",
      "  0.49606559 0.63713    0.46146413 0.53126679 0.50077737 0.36095024\n",
      "  0.47009424 0.56253926 0.64466183 0.43455663 0.48344108 0.30021158\n",
      "  0.49783838 0.50028042 0.44739075 0.57242983 0.38851524 0.37491828\n",
      "  0.69471957 0.49151    0.51484174 0.44717068 0.57464    0.38822729\n",
      "  0.48995241 0.60352355 0.55904114 0.43539886 0.53475026 0.45239597\n",
      "  0.42400077 0.43019    0.61088    0.25637895 0.50264139 0.31802926\n",
      "  0.59758583 0.49105107]]\n",
      "[1.79552725e-09 5.41937608e-03 1.80892506e-01 3.76413366e-01\n",
      " 2.68813714e-01 1.16999531e-01 3.96577290e-02 1.18037751e-02]\n"
     ]
    },
    {
     "data": {
      "image/png": "[encoded data removed]",
      "text/plain": [
       "<Figure size 432x288 with 1 Axes>"
      ]
     },
     "metadata": {
      "needs_background": "light"
     },
     "output_type": "display_data"
    },
    {
     "name": "stdout",
     "output_type": "stream",
     "text": [
      "- probabilities: [0.00541938 0.18089251 0.37641337 0.26881371 0.11699953]\n",
      "- target: 1    1.0\n",
      "2    0.0\n",
      "3    0.0\n",
      "4    0.0\n",
      "5    1.0\n",
      "Name: target_frank, dtype: float64\n",
      "- rounded probability: [0.0, 0.0, 0.0, 0.0, 0.0]\n",
      "- accuracy:  1.1978773613157485e-05\n",
      "- frank vs elizabeth corr: [[nan nan]\n",
      " [nan nan]]\n"
     ]
    },
    {
     "ename": "IndexError",
     "evalue": "too many indices for array",
     "output_type": "error",
     "traceback": [
      "\u001b[1;31m---------------------------------------------------------------------------\u001b[0m",
      "\u001b[1;31mIndexError\u001b[0m                                Traceback (most recent call last)",
      "\u001b[1;32m<ipython-input-5-5c60b542efe3>\u001b[0m in \u001b[0;36m<module>\u001b[1;34m\u001b[0m\n\u001b[0;32m     37\u001b[0m \u001b[0mprint\u001b[0m\u001b[1;33m(\u001b[0m\u001b[1;34m\"- frank vs elizabeth corr:\"\u001b[0m\u001b[1;33m,\u001b[0m \u001b[0mtournament_corr\u001b[0m\u001b[1;33m)\u001b[0m\u001b[1;33m\u001b[0m\u001b[1;33m\u001b[0m\u001b[0m\n\u001b[0;32m     38\u001b[0m \u001b[1;33m\u001b[0m\u001b[0m\n\u001b[1;32m---> 39\u001b[1;33m \u001b[0mresults\u001b[0m \u001b[1;33m=\u001b[0m \u001b[0my\u001b[0m\u001b[1;33m[\u001b[0m\u001b[1;33m:\u001b[0m\u001b[1;33m,\u001b[0m \u001b[1;36m1\u001b[0m\u001b[1;33m]\u001b[0m\u001b[1;33m\u001b[0m\u001b[1;33m\u001b[0m\u001b[0m\n\u001b[0m\u001b[0;32m     40\u001b[0m \u001b[0mresults_df\u001b[0m \u001b[1;33m=\u001b[0m \u001b[0mpd\u001b[0m\u001b[1;33m.\u001b[0m\u001b[0mDataFrame\u001b[0m\u001b[1;33m(\u001b[0m\u001b[0mdata\u001b[0m\u001b[1;33m=\u001b[0m\u001b[1;33m{\u001b[0m\u001b[1;34m'probability_frank'\u001b[0m\u001b[1;33m:\u001b[0m\u001b[0mresults\u001b[0m\u001b[1;33m}\u001b[0m\u001b[1;33m)\u001b[0m\u001b[1;33m\u001b[0m\u001b[1;33m\u001b[0m\u001b[0m\n\u001b[0;32m     41\u001b[0m \u001b[1;33m\u001b[0m\u001b[0m\n",
      "\u001b[1;31mIndexError\u001b[0m: too many indices for array"
     ]
    }
   ],
   "source": [
    "# plot probability distribution\n",
    "import time\n",
    "x= uncertainty_model.values\n",
    "print(x_prediction[:10])\n",
    "\n",
    "y = uncertainty_model.probabilities \n",
    "print(y[:10])\n",
    "\n",
    "\n",
    "plt.bar(x, y, width=0.4)\n",
    "plt.xticks(x, size=15, rotation=90)\n",
    "plt.yticks(size=15)\n",
    "plt.grid()\n",
    "plt.xlabel('Spot Price at Maturity $S_T$ (\\$)', size=15)\n",
    "plt.ylabel('Probability ($\\%$)', size=2)\n",
    "plt.show()\n",
    "\n",
    "# y_prediction = uncertainty_model.probabilities\n",
    "# evaluate = model.evaluate(x_prediction,y_prediction)\n",
    "\n",
    "probabilities = uncertainty_model.probabilities\n",
    "print(\"- probabilities:\", probabilities[1:6])\n",
    "\n",
    "# We can see the probability does seem to be good at predicting the\n",
    "# true target correctly.\n",
    "print(\"- target:\", prediction_data['target_frank'][1:6])\n",
    "print(\"- rounded probability:\", [np.round(p) for p in probabilities][1:6])\n",
    "\n",
    "# But overall the accuracy is very low.\n",
    "correct = [\n",
    "np.round(x) == y\n",
    "for (x, y) in zip(probabilities, prediction_data['target_frank'])]\n",
    "print(\"- accuracy: \", sum(correct) / float(prediction_data.shape[0]))\n",
    "\n",
    "tournament_corr = np.corrcoef(prediction_data['target_frank'],\n",
    "                              prediction_data['target_elizabeth'])\n",
    "print(\"- frank vs elizabeth corr:\", tournament_corr)\n",
    "\n",
    "results = y[:, 1]\n",
    "results_df = pd.DataFrame(data={'probability_frank':results})\n",
    "\n",
    "joined = pd.DataFrame(ids).join(results_df)\n",
    "pd.DataFrame(joined[:5])\n",
    "\n",
    "\n",
    "print(\"Writing predictions to predictions.csv\")\n",
    "path = 'predictions_{:},{}'.format(time.strftime(\"%Y-%m-%d_%Hh%Mm%Ss\", time.gmtime()),NAME) + '.csv'\n",
    "print()\n",
    "print(\"Writing predictions to \" + path.strip())\n",
    "joined.to_csv(path,float_format='%.15f', index=False)\n"
   ]
  },
  {
   "cell_type": "markdown",
   "metadata": {},
   "source": [
    "### Payoff Function\n",
    "\n",
    "The payoff function equals zero as long as the spot price at maturity $S_T$ is less than the strike price $K$ and then increases linearly.\n",
    "The implementation uses a comparator, that flips an ancilla qubit from $\\big|0\\rangle$ to $\\big|1\\rangle$ if $S_T \\geq K$, and this ancilla is used to control the linear part of the payoff function.\n",
    "\n",
    "The linear part itself is then approximated as follows.\n",
    "We exploit the fact that $\\sin^2(y + \\pi/4) \\approx y + 1/2$ for small $|y|$.\n",
    "Thus, for a given approximation scaling factor $c_{approx} \\in [0, 1]$ and $x \\in [0, 1]$ we consider\n",
    "$$ \\sin^2( \\pi/2 * c_{approx} * ( x - 1/2 ) + \\pi/4) \\approx \\pi/2 * c_{approx} * ( x - 1/2 ) + 1/2 $$ for small $c_{approx}$.\n",
    "\n",
    "We can easily construct an operator that acts as \n",
    "$$\\big|x\\rangle \\big|0\\rangle \\mapsto \\big|x\\rangle \\left( \\cos(a*x+b) \\big|0\\rangle + \\sin(a*x+b) \\big|1\\rangle \\right),$$\n",
    "using controlled Y-rotations.\n",
    "\n",
    "Eventually, we are interested in the probability of measuring $\\big|1\\rangle$ in the last qubit, which corresponds to\n",
    "$\\sin^2(a*x+b)$.\n",
    "Together with the approximation above, this allows to approximate the values of interest.\n",
    "The smaller we choose $c_{approx}$, the better the approximation.\n",
    "However, since we are then estimating a property scaled by $c_{approx}$, the number of evaluation qubits $m$ needs to be adjusted accordingly.\n",
    "\n",
    "For more details on the approximation, we refer to:\n",
    "<a href=\"https://arxiv.org/abs/1806.06893\">Quantum Risk Analysis. Woerner, Egger. 2018.</a>"
   ]
  },
  {
   "cell_type": "code",
   "execution_count": 39,
   "metadata": {
    "ExecuteTime": {
     "end_time": "2019-04-25T01:14:58.174526Z",
     "start_time": "2019-04-25T01:14:58.134631Z"
    }
   },
   "outputs": [
    {
     "name": "stderr",
     "output_type": "stream",
     "text": [
      "C:\\Users\\peace\\Anaconda3_2\\lib\\site-packages\\qiskit_aqua\\components\\uncertainty_problems\\european_call_expected_value.py:95: RuntimeWarning: divide by zero encountered in double_scalars\n",
      "  self._mapped_strike_price = int(np.round((strike_price - lb)/(ub - lb) * (uncertainty_model.num_values - 1)))\n"
     ]
    },
    {
     "ename": "OverflowError",
     "evalue": "cannot convert float infinity to integer",
     "output_type": "error",
     "traceback": [
      "\u001b[1;31m---------------------------------------------------------------------------\u001b[0m",
      "\u001b[1;31mOverflowError\u001b[0m                             Traceback (most recent call last)",
      "\u001b[1;32m<ipython-input-39-68e36bfee698>\u001b[0m in \u001b[0;36m<module>\u001b[1;34m\u001b[0m\n\u001b[0;32m      9\u001b[0m     \u001b[0muncertainty_model\u001b[0m\u001b[1;33m,\u001b[0m\u001b[1;33m\u001b[0m\u001b[1;33m\u001b[0m\u001b[0m\n\u001b[0;32m     10\u001b[0m     \u001b[0mstrike_price\u001b[0m\u001b[1;33m=\u001b[0m\u001b[0mstrike_price\u001b[0m\u001b[1;33m,\u001b[0m\u001b[1;33m\u001b[0m\u001b[1;33m\u001b[0m\u001b[0m\n\u001b[1;32m---> 11\u001b[1;33m     \u001b[0mc_approx\u001b[0m\u001b[1;33m=\u001b[0m\u001b[0mc_approx\u001b[0m\u001b[1;33m\u001b[0m\u001b[1;33m\u001b[0m\u001b[0m\n\u001b[0m\u001b[0;32m     12\u001b[0m )\n",
      "\u001b[1;32m~\\Anaconda3_2\\lib\\site-packages\\qiskit_aqua\\components\\uncertainty_problems\\european_call_expected_value.py\u001b[0m in \u001b[0;36m__init__\u001b[1;34m(self, uncertainty_model, strike_price, c_approx, i_state, i_compare, i_objective)\u001b[0m\n\u001b[0;32m     93\u001b[0m         \u001b[0mlb\u001b[0m \u001b[1;33m=\u001b[0m \u001b[0muncertainty_model\u001b[0m\u001b[1;33m.\u001b[0m\u001b[0mlow\u001b[0m\u001b[1;33m\u001b[0m\u001b[1;33m\u001b[0m\u001b[0m\n\u001b[0;32m     94\u001b[0m         \u001b[0mub\u001b[0m \u001b[1;33m=\u001b[0m \u001b[0muncertainty_model\u001b[0m\u001b[1;33m.\u001b[0m\u001b[0mhigh\u001b[0m\u001b[1;33m\u001b[0m\u001b[1;33m\u001b[0m\u001b[0m\n\u001b[1;32m---> 95\u001b[1;33m         \u001b[0mself\u001b[0m\u001b[1;33m.\u001b[0m\u001b[0m_mapped_strike_price\u001b[0m \u001b[1;33m=\u001b[0m \u001b[0mint\u001b[0m\u001b[1;33m(\u001b[0m\u001b[0mnp\u001b[0m\u001b[1;33m.\u001b[0m\u001b[0mround\u001b[0m\u001b[1;33m(\u001b[0m\u001b[1;33m(\u001b[0m\u001b[0mstrike_price\u001b[0m \u001b[1;33m-\u001b[0m \u001b[0mlb\u001b[0m\u001b[1;33m)\u001b[0m\u001b[1;33m/\u001b[0m\u001b[1;33m(\u001b[0m\u001b[0mub\u001b[0m \u001b[1;33m-\u001b[0m \u001b[0mlb\u001b[0m\u001b[1;33m)\u001b[0m \u001b[1;33m*\u001b[0m \u001b[1;33m(\u001b[0m\u001b[0muncertainty_model\u001b[0m\u001b[1;33m.\u001b[0m\u001b[0mnum_values\u001b[0m \u001b[1;33m-\u001b[0m \u001b[1;36m1\u001b[0m\u001b[1;33m)\u001b[0m\u001b[1;33m)\u001b[0m\u001b[1;33m)\u001b[0m\u001b[1;33m\u001b[0m\u001b[1;33m\u001b[0m\u001b[0m\n\u001b[0m\u001b[0;32m     96\u001b[0m \u001b[1;33m\u001b[0m\u001b[0m\n\u001b[0;32m     97\u001b[0m         \u001b[1;31m# create comparator\u001b[0m\u001b[1;33m\u001b[0m\u001b[1;33m\u001b[0m\u001b[1;33m\u001b[0m\u001b[0m\n",
      "\u001b[1;31mOverflowError\u001b[0m: cannot convert float infinity to integer"
     ]
    }
   ],
   "source": [
    "# set the strike price (should be within the low and the high value of the uncertainty)\n",
    "strike_price = 0\n",
    "\n",
    "# set the approximation scaling for the payoff function\n",
    "c_approx = 0.25\n",
    "\n",
    "# construct circuit factory for payoff function\n",
    "european_call = EuropeanCallExpectedValue(\n",
    "    uncertainty_model,\n",
    "    strike_price=strike_price,\n",
    "    c_approx=c_approx\n",
    ")"
   ]
  },
  {
   "cell_type": "code",
   "execution_count": 29,
   "metadata": {
    "ExecuteTime": {
     "end_time": "2019-04-25T01:09:10.859144Z",
     "start_time": "2019-04-25T01:09:04.043798Z"
    }
   },
   "outputs": [
    {
     "data": {
      "image/png": "[encoded data removed]",
      "text/plain": [
       "<Figure size 432x288 with 1 Axes>"
      ]
     },
     "metadata": {
      "needs_background": "light"
     },
     "output_type": "display_data"
    }
   ],
   "source": [
    "# plot exact payoff function (evaluated on the grid of the uncertainty model)\n",
    "x = uncertainty_model.values\n",
    "y = np.maximum(0, x - strike_price)\n",
    "plt.plot(x, y, 'ro-')\n",
    "plt.grid()\n",
    "plt.title('Payoff Function', size=15)\n",
    "plt.xlabel('Spot Price', size=15)\n",
    "plt.ylabel('Payoff', size=15)\n",
    "plt.xticks(x, size=15, rotation=90)\n",
    "plt.yticks(size=15)\n",
    "plt.show()"
   ]
  },
  {
   "cell_type": "code",
   "execution_count": 6,
   "metadata": {},
   "outputs": [
    {
     "name": "stdout",
     "output_type": "stream",
     "text": [
      "exact (normalized) expected value:\t0.1133\n",
      "exact (normalized) delta value:   \t0.4700\n"
     ]
    }
   ],
   "source": [
    "# evaluate exact expected value (normalized to the [0, 1] interval)\n",
    "exact_value = np.dot(uncertainty_model.probabilities, y)\n",
    "exact_delta = sum(uncertainty_model.probabilities[x >= strike_price])\n",
    "print('exact (normalized) expected value:\\t%.4f' % exact_value)\n",
    "print('exact (normalized) delta value:   \\t%.4f' % exact_delta)"
   ]
  },
  {
   "cell_type": "markdown",
   "metadata": {},
   "source": [
    "### Evaluate Expected Payoff"
   ]
  },
  {
   "cell_type": "code",
   "execution_count": 7,
   "metadata": {
    "collapsed": true
   },
   "outputs": [],
   "source": [
    "# set number of evaluation qubits (samples)\n",
    "m = 5\n",
    "\n",
    "# construct amplitude estimation \n",
    "ae = AmplitudeEstimation(m, european_call)"
   ]
  },
  {
   "cell_type": "code",
   "execution_count": 8,
   "metadata": {
    "collapsed": true
   },
   "outputs": [],
   "source": [
    "# result = ae.run(quantum_instance=BasicAer.get_backend('qasm_simulator'), shots=100)\n",
    "result = ae.run(quantum_instance=BasicAer.get_backend('statevector_simulator'))"
   ]
  },
  {
   "cell_type": "code",
   "execution_count": 9,
   "metadata": {},
   "outputs": [
    {
     "name": "stdout",
     "output_type": "stream",
     "text": [
      "Exact value:    \t0.1133\n",
      "Estimated value:\t0.2307\n",
      "Probability:    \t0.7701\n"
     ]
    }
   ],
   "source": [
    "print('Exact value:    \\t%.4f' % exact_value)\n",
    "print('Estimated value:\\t%.4f' % result['estimation'])\n",
    "print('Probability:    \\t%.4f' % result['max_probability'])"
   ]
  },
  {
   "cell_type": "code",
   "execution_count": 10,
   "metadata": {},
   "outputs": [
    {
     "data": {
      "image/png": "[encoded data removed]",
      "text/plain": [
       "<Figure size 432x288 with 1 Axes>"
      ]
     },
     "metadata": {},
     "output_type": "display_data"
    },
    {
     "data": {
      "image/png": "[encoded data removed]",
      "text/plain": [
       "<Figure size 432x288 with 1 Axes>"
      ]
     },
     "metadata": {},
     "output_type": "display_data"
    }
   ],
   "source": [
    "# plot estimated values for \"a\"\n",
    "plt.bar(result['values'], result['probabilities'], width=0.5/len(result['probabilities']))\n",
    "plt.xticks([0, 0.25, 0.5, 0.75, 1], size=15)\n",
    "plt.yticks([0, 0.25, 0.5, 0.75, 1], size=15)\n",
    "plt.title('\"a\" Value', size=15)\n",
    "plt.ylabel('Probability', size=15)\n",
    "plt.ylim((0,1))\n",
    "plt.grid()\n",
    "plt.show()\n",
    "\n",
    "# plot estimated values for option price (after re-scaling and reversing the c_approx-transformation)\n",
    "plt.bar(result['mapped_values'], result['probabilities'], width=1/len(result['probabilities']))\n",
    "plt.plot([exact_value, exact_value], [0,1], 'r--', linewidth=2)\n",
    "plt.xticks(size=15)\n",
    "plt.yticks([0, 0.25, 0.5, 0.75, 1], size=15)\n",
    "plt.title('Estimated Option Price', size=15)\n",
    "plt.ylabel('Probability', size=15)\n",
    "plt.ylim((0,1))\n",
    "plt.grid()\n",
    "plt.show()"
   ]
  },
  {
   "cell_type": "markdown",
   "metadata": {},
   "source": [
    "### Evaluate Delta\n",
    "\n",
    "The Delta is a bit simplier to evaluate than the expected payoff.\n",
    "Similarly to the expected payoff, we use a comparator circuit and an ancilla qubit to identify the cases where $S_T \\geq K$.\n",
    "However, since we are only interested in the probability of this condition being true, we can directly use this ancilla qubit as the objective qubit in amplitude estimation without any futher approximation."
   ]
  },
  {
   "cell_type": "code",
   "execution_count": 11,
   "metadata": {
    "collapsed": true
   },
   "outputs": [],
   "source": [
    "european_call_delta = EuropeanCallDelta(\n",
    "    uncertainty_model,\n",
    "    strike_price\n",
    ")"
   ]
  },
  {
   "cell_type": "code",
   "execution_count": 12,
   "metadata": {
    "collapsed": true
   },
   "outputs": [],
   "source": [
    "# set number of evaluation qubits (=log(samples)\n",
    "m = 5\n",
    "\n",
    "# construct amplitude estimation \n",
    "ae_delta = AmplitudeEstimation(m, european_call_delta)"
   ]
  },
  {
   "cell_type": "code",
   "execution_count": 13,
   "metadata": {
    "collapsed": true
   },
   "outputs": [],
   "source": [
    "# result_delta = ae_delta.run(quantum_instance=BasicAer.get_backend('qasm_simulator'), shots=100)\n",
    "result_delta = ae_delta.run(quantum_instance=BasicAer.get_backend('statevector_simulator'))"
   ]
  },
  {
   "cell_type": "code",
   "execution_count": 14,
   "metadata": {},
   "outputs": [
    {
     "name": "stdout",
     "output_type": "stream",
     "text": [
      "Exact delta:   \t0.4700\n",
      "Esimated value:\t0.5000\n",
      "Probability:   \t0.7291\n"
     ]
    }
   ],
   "source": [
    "print('Exact delta:   \\t%.4f' % exact_delta)\n",
    "print('Esimated value:\\t%.4f' % result_delta['estimation'])\n",
    "print('Probability:   \\t%.4f' % result_delta['max_probability'])"
   ]
  },
  {
   "cell_type": "code",
   "execution_count": 15,
   "metadata": {},
   "outputs": [
    {
     "data": {
      "image/png": "[encoded data removed]",
      "text/plain": [
       "<Figure size 432x288 with 1 Axes>"
      ]
     },
     "metadata": {},
     "output_type": "display_data"
    }
   ],
   "source": [
    "# plot estimated values for delta\n",
    "plt.bar(result_delta['values'], result_delta['probabilities'], width=0.5/len(result_delta['probabilities']))\n",
    "plt.plot([exact_delta, exact_delta], [0,1], 'r--', linewidth=2)\n",
    "plt.xticks(size=15)\n",
    "plt.yticks([0, 0.25, 0.5, 0.75, 1], size=15)\n",
    "plt.title('Estimated Option Delta', size=15)\n",
    "plt.ylabel('Probability', size=15)\n",
    "plt.ylim((0,1))\n",
    "plt.grid()\n",
    "plt.show()"
   ]
  },
  {
   "cell_type": "code",
   "execution_count": null,
   "metadata": {
    "collapsed": true
   },
   "outputs": [],
   "source": [
    "y_prediction = model.predict(x_prediction)\n",
    "evaluate = model.evaluate(x_prediction,y_prediction)\n",
    "\n",
    "probabilities = y_prediction[:, 1]\n",
    "print(\"- probabilities:\", probabilities[1:6])\n",
    "\n",
    "# We can see the probability does seem to be good at predicting the\n",
    "# true target correctly.\n",
    "print(\"- target:\", prediction_data['target_frank'][1:6])\n",
    "print(\"- rounded probability:\", [np.round(p) for p in probabilities][1:6])\n",
    "\n",
    "# But overall the accuracy is very low.\n",
    "correct = [\n",
    "np.round(x) == y\n",
    "for (x, y) in zip(probabilities, prediction_data['target_frank'])]\n",
    "print(\"- accuracy: \", sum(correct) / float(prediction_data.shape[0]))\n",
    "\n",
    "tournament_corr = np.corrcoef(prediction_data['target_frank'],\n",
    "                              prediction_data['target_elizabeth'])\n",
    "print(\"- frank vs elizabeth corr:\", tournament_corr)"
   ]
  }
 ],
 "metadata": {
  "kernelspec": {
   "display_name": "Python 3",
   "language": "python",
   "name": "python3"
  },
  "language_info": {
   "codemirror_mode": {
    "name": "ipython",
    "version": 3
   },
   "file_extension": ".py",
   "mimetype": "text/x-python",
   "name": "python",
   "nbconvert_exporter": "python",
   "pygments_lexer": "ipython3",
   "version": "3.7.3"
  },
  "latex_envs": {
   "LaTeX_envs_menu_present": true,
   "autoclose": false,
   "autocomplete": true,
   "bibliofile": "biblio.bib",
   "cite_by": "apalike",
   "current_citInitial": 1,
   "eqLabelWithNumbers": true,
   "eqNumInitial": 1,
   "hotkeys": {
    "equation": "Ctrl-E",
    "itemize": "Ctrl-I"
   },
   "labels_anchors": false,
   "latex_user_defs": false,
   "report_style_numbering": true,
   "user_envs_cfg": false
  }
 },
 "nbformat": 4,
 "nbformat_minor": 1
}
