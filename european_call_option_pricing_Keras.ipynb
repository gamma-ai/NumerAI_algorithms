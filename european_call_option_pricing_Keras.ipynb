{
 "cells": [
  {
   "cell_type": "markdown",
   "metadata": {},
   "source": [
    "<img src=\"../../../images/qiskit-heading.gif\" alt=\"Note: In order for images to show up in this jupyter notebook you need to select File => Trusted Notebook\" width=\"500 px\" align=\"left\">"
   ]
  },
  {
   "cell_type": "markdown",
   "metadata": {},
   "source": [
    "# _*Qiskit Aqua: Pricing European Call Options*_ \n",
    "\n",
    "The latest version of this notebook is available on https://github.com/Qiskit/qiskit-tutorials.\n",
    "\n",
    "***\n",
    "### Contributors\n",
    "Stefan Woerner<sup>[1]</sup>, Daniel Egger<sup>[1]</sup>, Shaohan Hu<sup>[1]</sup>, Stephen Wood<sup>[1]</sup>, Marco Pistoia<sup>[1]</sup>\n",
    "### Affliation\n",
    "- <sup>[1]</sup>IBMQ"
   ]
  },
  {
   "cell_type": "markdown",
   "metadata": {},
   "source": [
    "### Introduction\n",
    "<br>\n",
    "Suppose a European call option with strike price $K$ and an underlying asset whose spot price at maturity $S_T$ follows a given random distribution.\n",
    "The corresponding payoff function is defined as:\n",
    "<br>\n",
    "<br>\n",
    "$$\\max\\{S - K, 0\\}$$\n",
    "<br>\n",
    "In the following, a quantum algorithm based on amplitude estimation is used to estimate the expected payoff, i.e., the fair price before discounting, for the option:\n",
    "<br>\n",
    "<br>\n",
    "$$\\mathbb{E}\\left[ \\max\\{S - K, 0\\} \\right]$$\n",
    "<br>\n",
    "as well as the corresponding $\\Delta$, i.e., the derivative of the option price with respect to the spot price, defined as:\n",
    "<br>\n",
    "<br>\n",
    "$$\n",
    "\\Delta = \\mathbb{P}\\left[S \\geq K\\right]\n",
    "$$\n",
    "<br>\n",
    "The approximation of the objective function is explained in detail in the following paper:<br>\n",
    "<a href=\"https://arxiv.org/abs/1806.06893\">Quantum Risk Analysis. Woerner, Egger. 2018.</a>"
   ]
  },
  {
   "cell_type": "code",
   "execution_count": 2,
   "metadata": {
    "ExecuteTime": {
     "end_time": "2019-04-26T20:10:07.507718Z",
     "start_time": "2019-04-26T20:10:07.499741Z"
    }
   },
   "outputs": [],
   "source": [
    "import matplotlib.pyplot as plt\n",
    "%matplotlib inline\n",
    "import numpy as np\n",
    "from qiskit import BasicAer\n",
    "from qiskit_aqua.algorithms import AmplitudeEstimation\n",
    "from qiskit_aqua.components.uncertainty_problems import EuropeanCallExpectedValue, EuropeanCallDelta\n",
    "from qiskit_aqua.components.random_distributions import LogNormalDistribution\n",
    "import pandas as pd \n",
    "from sklearn.preprocessing import MinMaxScaler\n",
    "import keras"
   ]
  },
  {
   "cell_type": "markdown",
   "metadata": {},
   "source": [
    "### Uncertainty Model\n",
    "\n",
    "We construct a circuit factory to load a log-normal random distribution into a quantum state.\n",
    "The distribution is truncated to a given interval $[low, high]$ and discretized using $2^n$ grid points, where $n$ denotes the number of qubits used.\n",
    "The unitary operator corresponding to the circuit factory implements the following: \n",
    "$$\\big|0\\rangle_{n} \\mapsto \\big|\\psi\\rangle_{n} = \\sum_{i=0}^{2^n-1} \\sqrt{p_i}\\big|i\\rangle_{n},$$\n",
    "where $p_i$ denote the probabilities corresponding to the truncated and discretized distribution and where $i$ is mapped to the right interval using the affine map:\n",
    "$$ \\{0, \\ldots, 2^n-1\\} \\ni i \\mapsto \\frac{high - low}{2^n - 1} * i + low \\in [low, high].$$"
   ]
  },
  {
   "cell_type": "code",
   "execution_count": 8,
   "metadata": {
    "ExecuteTime": {
     "end_time": "2019-04-26T20:25:16.839503Z",
     "start_time": "2019-04-26T20:25:08.726189Z"
    }
   },
   "outputs": [
    {
     "name": "stdout",
     "output_type": "stream",
     "text": [
      "Loading data...\n",
      "original train data shape: 502732,\t60 \n",
      "\n",
      " \t:\n",
      "original prediction data shape: 333924,\t60 \n",
      "\n",
      " \t:\n",
      "total training / valdation shape                       id   era data_type  feature1  feature2  feature3  \\\n",
      "0       n0003126ff2349f6  era1     train   0.54836   0.31077   0.37524   \n",
      "1       n003d773d29b57ec  era1     train   0.34712   0.40275   0.42747   \n",
      "2       n0074df2dc6810b6  era1     train   0.50871   0.48639   0.47544   \n",
      "3       n0090630f530903e  era1     train   0.61363   0.40268   0.53779   \n",
      "4       n00af19089546fe9  era1     train   0.30704   0.47273   0.54495   \n",
      "5       n011d2da12b1e735  era1     train   0.52336   0.59136   0.60506   \n",
      "6       n014149cadeee55d  era1     train   0.30875   0.62510   0.35229   \n",
      "7       n0148a4dcf539aba  era1     train   0.40632   0.30590   0.43227   \n",
      "8       n015855690d31908  era1     train   0.48193   0.27060   0.50228   \n",
      "9       n0169447f4d6a10e  era1     train   0.51191   0.53663   0.42109   \n",
      "10      n01703ba4eff8fe7  era1     train   0.51829   0.52928   0.41085   \n",
      "11      n01b43e631083764  era1     train   0.61895   0.44075   0.61466   \n",
      "12      n01d1368b061433f  era1     train   0.45529   0.28276   0.61272   \n",
      "13      n01d5bfde31734cd  era1     train   0.48717   0.28982   0.38631   \n",
      "14      n0236fa89e606631  era1     train   0.42585   0.56616   0.62732   \n",
      "15      n023dfa017b93739  era1     train   0.51657   0.52352   0.41695   \n",
      "16      n0294f04019898e8  era1     train   0.45073   0.56795   0.25294   \n",
      "17      n029adf0fa156932  era1     train   0.53833   0.43619   0.58892   \n",
      "18      n02ad6457589c4af  era1     train   0.33576   0.54933   0.39919   \n",
      "19      n02bd240c01b24bd  era1     train   0.47469   0.38517   0.53743   \n",
      "20      n02c48c74a9c9719  era1     train   0.83431   0.36147   0.69324   \n",
      "21      n02cc6384ea5a025  era1     train   0.49314   0.31000   0.36538   \n",
      "22      n02e0356c793b120  era1     train   0.65183   0.40688   0.52271   \n",
      "23      n02e96eeb774238f  era1     train   0.67869   0.46261   0.38758   \n",
      "24      n030964ace7cfa93  era1     train   0.59925   0.43286   0.46698   \n",
      "25      n0311b410c7f8b9d  era1     train   0.37634   0.43578   0.43619   \n",
      "26      n03158868e546c31  era1     train   0.50558   0.47651   0.53912   \n",
      "27      n032f0f9107b0115  era1     train   0.46657   0.28710   0.44637   \n",
      "28      n03484f670162e63  era1     train   0.33571   0.45678   0.25402   \n",
      "29      n03534209c17edf5  era1     train   0.35224   0.48464   0.47109   \n",
      "...                  ...   ...       ...       ...       ...       ...   \n",
      "333894  nfec21cd5c5b33ad  eraX      live   0.38965   0.45030   0.52700   \n",
      "333895  nfec98c25ae22d54  eraX      live   0.69356   0.47442   0.50694   \n",
      "333896  nfed0b30d2d442cc  eraX      live   0.38492   0.42707   0.44937   \n",
      "333897  nfed69bed5d087e9  eraX      live   0.48369   0.62619   0.38787   \n",
      "333898  nfed8728787c35f7  eraX      live   0.49617   0.44814   0.45066   \n",
      "333899  nfeda5d5d6cfa79e  eraX      live   0.62005   0.29275   0.30218   \n",
      "333900  nfeeb6e4cd56ca3a  eraX      live   0.51599   0.49497   0.68660   \n",
      "333901  nfef1f9ddc8df2af  eraX      live   0.34322   0.31093   0.49169   \n",
      "333902  nff08e8747d575c2  eraX      live   0.49919   0.54032   0.71305   \n",
      "333903  nff1e7fb2384e709  eraX      live   0.62816   0.54499   0.67274   \n",
      "333904  nff3a0d69e6a871e  eraX      live   0.76577   0.46736   0.48493   \n",
      "333905  nff430c26ed109de  eraX      live   0.47557   0.35675   0.57149   \n",
      "333906  nff62b58beb64c4f  eraX      live   0.42865   0.60958   0.56111   \n",
      "333907  nff7234fd21aa8ed  eraX      live   0.39509   0.46559   0.51895   \n",
      "333908  nff73210358cd504  eraX      live   0.65093   0.43259   0.42214   \n",
      "333909  nff770cbee3cd1bf  eraX      live   0.27143   0.73245   0.57361   \n",
      "333910  nff939fd6397eb8d  eraX      live   0.37668   0.35264   0.45309   \n",
      "333911  nff94fb2bec22d22  eraX      live   0.31030   0.40159   0.46879   \n",
      "333912  nff9af0d05671f92  eraX      live   0.46025   0.33584   0.45436   \n",
      "333913  nffba5bfdde304d5  eraX      live   0.40388   0.34720   0.62989   \n",
      "333914  nffbe892b3bf9fe7  eraX      live   0.65109   0.27549   0.19570   \n",
      "333915  nffc2a2b2ef54a97  eraX      live   0.45028   0.43775   0.64112   \n",
      "333916  nffd3c0fbc2de0e8  eraX      live   0.40023   0.39563   0.37794   \n",
      "333917  nffd754673e8f726  eraX      live   0.55810   0.50070   0.37339   \n",
      "333918  nffdb5c4428c68c3  eraX      live   0.47117   0.49835   0.43437   \n",
      "333919  nffdb97eb02f3e90  eraX      live   0.78880   0.47460   0.61443   \n",
      "333920  nffe15031d080c66  eraX      live   0.49492   0.50500   0.57896   \n",
      "333921  nffedbfc9ba8f6b2  eraX      live   0.31902   0.52280   0.52200   \n",
      "333922  nfff54490e982036  eraX      live   0.48698   0.59598   0.56342   \n",
      "333923  nfffcee8f1fddd45  eraX      live   0.56285   0.57647   0.52050   \n",
      "\n",
      "        feature4  feature5  feature6  feature7  ...  feature48  feature49  \\\n",
      "0        0.49490   0.53217   0.48388   0.50220  ...    0.55239    0.64054   \n",
      "1        0.44006   0.47866   0.44055   0.59182  ...    0.46029    0.62941   \n",
      "2        0.40306   0.53436   0.64028   0.51420  ...    0.40596    0.54731   \n",
      "3        0.37045   0.58711   0.59900   0.62428  ...    0.53878    0.47776   \n",
      "4        0.48692   0.47348   0.34695   0.41506  ...    0.46431    0.49482   \n",
      "5        0.30085   0.41742   0.47290   0.56301  ...    0.55917    0.31260   \n",
      "6        0.48021   0.71347   0.36977   0.57899  ...    0.40538    0.52690   \n",
      "7        0.61999   0.51016   0.52714   0.74017  ...    0.77664    0.51623   \n",
      "8        0.63037   0.50734   0.45545   0.41927  ...    0.52887    0.44384   \n",
      "9        0.38838   0.51222   0.53249   0.70187  ...    0.58353    0.42566   \n",
      "10       0.44842   0.49727   0.66198   0.53513  ...    0.54271    0.43434   \n",
      "11       0.51365   0.45339   0.51101   0.39488  ...    0.33293    0.30265   \n",
      "12       0.48615   0.54590   0.59111   0.55893  ...    0.55932    0.46798   \n",
      "13       0.58569   0.46994   0.51753   0.41116  ...    0.55347    0.42172   \n",
      "14       0.40727   0.36868   0.51526   0.29604  ...    0.53480    0.48525   \n",
      "15       0.39198   0.54481   0.55880   0.48240  ...    0.45665    0.50711   \n",
      "16       0.37918   0.65944   0.61828   0.62431  ...    0.44610    0.57642   \n",
      "17       0.53740   0.32951   0.44737   0.39056  ...    0.64044    0.22801   \n",
      "18       0.51449   0.44705   0.53717   0.53424  ...    0.53355    0.49124   \n",
      "19       0.46013   0.63523   0.48265   0.50777  ...    0.48970    0.41920   \n",
      "20       0.49827   0.22947   0.46324   0.49544  ...    0.75846    0.31290   \n",
      "21       0.49332   0.68842   0.59665   0.57461  ...    0.54245    0.40880   \n",
      "22       0.69467   0.62700   0.50894   0.44084  ...    0.64244    0.17882   \n",
      "23       0.33676   0.43296   0.56874   0.67007  ...    0.63132    0.46647   \n",
      "24       0.39413   0.58728   0.38304   0.60579  ...    0.50472    0.33878   \n",
      "25       0.45756   0.39833   0.58444   0.48982  ...    0.58255    0.52865   \n",
      "26       0.48904   0.43819   0.53960   0.55395  ...    0.49973    0.47976   \n",
      "27       0.50982   0.63898   0.45895   0.50982  ...    0.52851    0.43489   \n",
      "28       0.47962   0.50144   0.58369   0.62196  ...    0.79120    0.72922   \n",
      "29       0.41567   0.57632   0.34524   0.58772  ...    0.47177    0.55393   \n",
      "...          ...       ...       ...       ...  ...        ...        ...   \n",
      "333894   0.37210   0.46008   0.43412   0.63377  ...    0.57366    0.62540   \n",
      "333895   0.41392   0.47895   0.66038   0.49995  ...    0.62853    0.29633   \n",
      "333896   0.42662   0.54812   0.49072   0.66651  ...    0.48536    0.48631   \n",
      "333897   0.14462   0.56918   0.42828   0.64804  ...    0.54346    0.46759   \n",
      "333898   0.42089   0.68011   0.53420   0.57086  ...    0.43619    0.35083   \n",
      "333899   0.48158   0.45471   0.62305   0.59370  ...    0.43859    0.48730   \n",
      "333900   0.51868   0.35298   0.41149   0.45650  ...    0.50594    0.37331   \n",
      "333901   0.59407   0.61595   0.40386   0.65190  ...    0.49023    0.60424   \n",
      "333902   0.49465   0.71118   0.48220   0.53299  ...    0.41879    0.64955   \n",
      "333903   0.39532   0.30184   0.20910   0.33041  ...    0.59970    0.59045   \n",
      "333904   0.37545   0.50035   0.64585   0.55769  ...    0.59497    0.38776   \n",
      "333905   0.42187   0.47466   0.37525   0.58125  ...    0.52464    0.57618   \n",
      "333906   0.35536   0.48186   0.49876   0.36463  ...    0.58487    0.44765   \n",
      "333907   0.32089   0.69535   0.53294   0.43689  ...    0.40198    0.54004   \n",
      "333908   0.43413   0.64938   0.66657   0.62922  ...    0.64106    0.46986   \n",
      "333909   0.40323   0.49161   0.38526   0.35060  ...    0.46227    0.52369   \n",
      "333910   0.55636   0.50846   0.47913   0.55327  ...    0.41672    0.52240   \n",
      "333911   0.45420   0.58696   0.25287   0.48149  ...    0.44196    0.68500   \n",
      "333912   0.46719   0.55669   0.59600   0.53443  ...    0.54857    0.59703   \n",
      "333913   0.50223   0.51333   0.59573   0.19037  ...    0.38403    0.52610   \n",
      "333914   0.29505   0.64040   0.65133   0.82701  ...    0.68128    0.66397   \n",
      "333915   0.62979   0.49950   0.31329   0.29323  ...    0.47624    0.54389   \n",
      "333916   0.41597   0.58451   0.46737   0.42167  ...    0.36073    0.65194   \n",
      "333917   0.22398   0.53908   0.69242   0.73459  ...    0.69416    0.50256   \n",
      "333918   0.40502   0.52326   0.55660   0.46356  ...    0.54289    0.53682   \n",
      "333919   0.29016   0.54173   0.49867   0.54847  ...    0.48866    0.35555   \n",
      "333920   0.39936   0.27492   0.42211   0.20965  ...    0.56749    0.54948   \n",
      "333921   0.42636   0.55033   0.51607   0.55940  ...    0.47780    0.53887   \n",
      "333922   0.56995   0.54684   0.36167   0.45931  ...    0.67469    0.58980   \n",
      "333923   0.41839   0.56140   0.59366   0.51704  ...    0.62566    0.45478   \n",
      "\n",
      "        feature50  target_bernie  target_elizabeth  target_jordan  target_ken  \\\n",
      "0         0.52182            1.0               1.0            1.0         1.0   \n",
      "1         0.55010            1.0               1.0            1.0         1.0   \n",
      "2         0.39061            0.0               0.0            1.0         0.0   \n",
      "3         0.36835            0.0               0.0            0.0         0.0   \n",
      "4         0.60452            1.0               1.0            1.0         1.0   \n",
      "5         0.35691            0.0               0.0            0.0         0.0   \n",
      "6         0.39767            1.0               1.0            1.0         1.0   \n",
      "7         0.49104            0.0               0.0            0.0         0.0   \n",
      "8         0.57269            0.0               0.0            0.0         0.0   \n",
      "9         0.50082            1.0               1.0            1.0         1.0   \n",
      "10        0.52720            0.0               0.0            0.0         0.0   \n",
      "11        0.45951            0.0               0.0            0.0         0.0   \n",
      "12        0.53359            1.0               1.0            1.0         1.0   \n",
      "13        0.72972            0.0               0.0            0.0         0.0   \n",
      "14        0.59524            1.0               1.0            1.0         1.0   \n",
      "15        0.59955            0.0               0.0            0.0         0.0   \n",
      "16        0.62569            0.0               0.0            0.0         0.0   \n",
      "17        0.44203            1.0               1.0            1.0         1.0   \n",
      "18        0.39731            1.0               1.0            1.0         1.0   \n",
      "19        0.38751            0.0               0.0            0.0         0.0   \n",
      "20        0.61816            1.0               1.0            1.0         1.0   \n",
      "21        0.53372            0.0               1.0            0.0         0.0   \n",
      "22        0.40123            0.0               0.0            0.0         0.0   \n",
      "23        0.53402            0.0               0.0            0.0         0.0   \n",
      "24        0.56262            0.0               0.0            0.0         0.0   \n",
      "25        0.63495            0.0               0.0            0.0         0.0   \n",
      "26        0.44513            0.0               0.0            0.0         0.0   \n",
      "27        0.48806            0.0               0.0            0.0         1.0   \n",
      "28        0.49451            0.0               0.0            0.0         0.0   \n",
      "29        0.49058            1.0               1.0            1.0         1.0   \n",
      "...           ...            ...               ...            ...         ...   \n",
      "333894    0.60923            NaN               NaN            NaN         NaN   \n",
      "333895    0.44433            NaN               NaN            NaN         NaN   \n",
      "333896    0.48360            NaN               NaN            NaN         NaN   \n",
      "333897    0.35499            NaN               NaN            NaN         NaN   \n",
      "333898    0.58263            NaN               NaN            NaN         NaN   \n",
      "333899    0.59974            NaN               NaN            NaN         NaN   \n",
      "333900    0.53860            NaN               NaN            NaN         NaN   \n",
      "333901    0.54947            NaN               NaN            NaN         NaN   \n",
      "333902    0.39121            NaN               NaN            NaN         NaN   \n",
      "333903    0.55970            NaN               NaN            NaN         NaN   \n",
      "333904    0.58773            NaN               NaN            NaN         NaN   \n",
      "333905    0.60564            NaN               NaN            NaN         NaN   \n",
      "333906    0.34334            NaN               NaN            NaN         NaN   \n",
      "333907    0.43746            NaN               NaN            NaN         NaN   \n",
      "333908    0.42161            NaN               NaN            NaN         NaN   \n",
      "333909    0.61633            NaN               NaN            NaN         NaN   \n",
      "333910    0.62184            NaN               NaN            NaN         NaN   \n",
      "333911    0.49960            NaN               NaN            NaN         NaN   \n",
      "333912    0.58098            NaN               NaN            NaN         NaN   \n",
      "333913    0.47645            NaN               NaN            NaN         NaN   \n",
      "333914    0.49876            NaN               NaN            NaN         NaN   \n",
      "333915    0.30022            NaN               NaN            NaN         NaN   \n",
      "333916    0.60008            NaN               NaN            NaN         NaN   \n",
      "333917    0.49471            NaN               NaN            NaN         NaN   \n",
      "333918    0.32950            NaN               NaN            NaN         NaN   \n",
      "333919    0.50956            NaN               NaN            NaN         NaN   \n",
      "333920    0.40728            NaN               NaN            NaN         NaN   \n",
      "333921    0.42454            NaN               NaN            NaN         NaN   \n",
      "333922    0.41426            NaN               NaN            NaN         NaN   \n",
      "333923    0.37560            NaN               NaN            NaN         NaN   \n",
      "\n",
      "        target_charles  target_frank  target_hillary  \n",
      "0                  1.0           1.0             1.0  \n",
      "1                  1.0           1.0             1.0  \n",
      "2                  0.0           0.0             0.0  \n",
      "3                  0.0           0.0             0.0  \n",
      "4                  1.0           1.0             1.0  \n",
      "5                  0.0           0.0             0.0  \n",
      "6                  1.0           1.0             1.0  \n",
      "7                  0.0           0.0             0.0  \n",
      "8                  0.0           0.0             0.0  \n",
      "9                  1.0           1.0             1.0  \n",
      "10                 0.0           0.0             0.0  \n",
      "11                 0.0           0.0             0.0  \n",
      "12                 1.0           1.0             1.0  \n",
      "13                 0.0           0.0             0.0  \n",
      "14                 1.0           1.0             1.0  \n",
      "15                 1.0           1.0             0.0  \n",
      "16                 0.0           0.0             0.0  \n",
      "17                 1.0           1.0             1.0  \n",
      "18                 1.0           1.0             1.0  \n",
      "19                 0.0           0.0             1.0  \n",
      "20                 1.0           1.0             1.0  \n",
      "21                 0.0           1.0             1.0  \n",
      "22                 0.0           0.0             0.0  \n",
      "23                 0.0           0.0             0.0  \n",
      "24                 0.0           0.0             0.0  \n",
      "25                 0.0           0.0             0.0  \n",
      "26                 0.0           0.0             0.0  \n",
      "27                 0.0           0.0             1.0  \n",
      "28                 0.0           0.0             0.0  \n",
      "29                 1.0           1.0             1.0  \n",
      "...                ...           ...             ...  \n",
      "333894             NaN           NaN             NaN  \n",
      "333895             NaN           NaN             NaN  \n",
      "333896             NaN           NaN             NaN  \n",
      "333897             NaN           NaN             NaN  \n",
      "333898             NaN           NaN             NaN  \n",
      "333899             NaN           NaN             NaN  \n",
      "333900             NaN           NaN             NaN  \n",
      "333901             NaN           NaN             NaN  \n",
      "333902             NaN           NaN             NaN  \n",
      "333903             NaN           NaN             NaN  \n",
      "333904             NaN           NaN             NaN  \n",
      "333905             NaN           NaN             NaN  \n",
      "333906             NaN           NaN             NaN  \n",
      "333907             NaN           NaN             NaN  \n",
      "333908             NaN           NaN             NaN  \n",
      "333909             NaN           NaN             NaN  \n",
      "333910             NaN           NaN             NaN  \n",
      "333911             NaN           NaN             NaN  \n",
      "333912             NaN           NaN             NaN  \n",
      "333913             NaN           NaN             NaN  \n",
      "333914             NaN           NaN             NaN  \n",
      "333915             NaN           NaN             NaN  \n",
      "333916             NaN           NaN             NaN  \n",
      "333917             NaN           NaN             NaN  \n",
      "333918             NaN           NaN             NaN  \n",
      "333919             NaN           NaN             NaN  \n",
      "333920             NaN           NaN             NaN  \n",
      "333921             NaN           NaN             NaN  \n",
      "333922             NaN           NaN             NaN  \n",
      "333923             NaN           NaN             NaN  \n",
      "\n",
      "[836656 rows x 60 columns]\n",
      "['feature1', 'feature2', 'feature3', 'feature4', 'feature5', 'feature6', 'feature7', 'feature8', 'feature9', 'feature10', 'feature11', 'feature12', 'feature13', 'feature14', 'feature15', 'feature16', 'feature17', 'feature18', 'feature19', 'feature20', 'feature21', 'feature22', 'feature23', 'feature24', 'feature25', 'feature26', 'feature27', 'feature28', 'feature29', 'feature30', 'feature31', 'feature32', 'feature33', 'feature34', 'feature35', 'feature36', 'feature37', 'feature38', 'feature39', 'feature40', 'feature41', 'feature42', 'feature43', 'feature44', 'feature45', 'feature46', 'feature47', 'feature48', 'feature49', 'feature50']\n"
     ]
    },
    {
     "name": "stdout",
     "output_type": "stream",
     "text": [
      "Spot Price 0.50\n",
      "mu: -0.695103742043391\n",
      "sigma: -0.695103742043391\n",
      "mean 0.5059056386804339\n",
      "variance 0.007109007912223062\n",
      "stddev 0.08431493291358928\n",
      "low 0.25296083993966606\n",
      "high 0.7588504374212017\n"
     ]
    }
   ],
   "source": [
    "# number of qubits to represent the uncertainty\n",
    "num_uncertainty_qubits = 3\n",
    "\n",
    "\n",
    "np.random.seed(0)\n",
    "print(\"Loading data...\")\n",
    "# Load the data from the CSV files\n",
    "training_data = pd.read_csv('numerai_training_data.csv', header=0)\n",
    "print('original train data shape: {},\\t{} \\n\\n \\t:'.format(training_data.shape[0],training_data.shape[1]))\n",
    "\n",
    "prediction_data = pd.read_csv('numerai_tournament_data.csv', header=0)\n",
    "print('original prediction data shape: {},\\t{} \\n\\n \\t:'.format(prediction_data.shape[0],prediction_data.shape[1]))\n",
    "\n",
    "complete_training_data = pd.concat([training_data, prediction_data])\n",
    "print('total training / valdation shape {}'.format(complete_training_data))\n",
    "\n",
    "# Transform the loaded CSV data into numpy arrays\n",
    "\n",
    "features = [f for f in list(training_data) if \"feature\" in f]\n",
    "print(features)\n",
    "\n",
    "X = training_data[features]\n",
    "mini= MinMaxScaler(feature_range=(0,1)) \n",
    "X = mini.fit_transform(X)\n",
    "\n",
    "Y = training_data[\"target_frank\"]\n",
    "Y= keras.utils.to_categorical(Y,2) \n",
    "\n",
    "x_prediction = prediction_data[features]\n",
    "x_prediction = mini.fit_transform(x_prediction)\n",
    "\n",
    "ids = prediction_data[\"id\"]  \n",
    "\n",
    "# parameters for considered random distribution\n",
    "#S = 2.0 # initial spot price\n",
    "S = np.mean(X)\n",
    "print('Spot Price {:.2f}'.format(S))\n",
    "vol = np.array(.5) # volatility of 40% // volatility = numpy.array(.5)\n",
    "r = 0.05 # annual interest rate of 4%\n",
    "T = 40 / 365 # 40 days to maturity out of 365 ,,/ 14 days to maturity out of 30\n",
    "\n",
    "# resulting parameters for log-normal distribution\n",
    "mu = ((r - 0.5 * vol**2) * T + np.log(S))\n",
    "print('mu: {}'.format(mu))\n",
    "sigma = vol * np.sqrt(T)\n",
    "print('sigma: {}'.format(mu))\n",
    "mean = np.exp(mu + sigma**2/2)\n",
    "print('mean {}'.format(mean))\n",
    "variance = (np.exp(sigma**2) - 1) * np.exp(2*mu + sigma**2)\n",
    "print('variance {}'.format(variance))\n",
    "stddev = np.sqrt(variance)\n",
    "print('stddev {}'.format(stddev))\n",
    "\n",
    "# lowest and highest value considered for the spot price; in between, an equidistant discretization is considered.\n",
    "low  = np.maximum(0, mean - 3*stddev)\n",
    "print('low {}'.format(low))\n",
    "\n",
    "\n",
    "high = mean + 3*stddev \n",
    "print('high {}'.format(high))\n",
    "\n",
    "\n",
    "\n",
    "# construct circuit factory for uncertainty model\n",
    "uncertainty_model = LogNormalDistribution(num_uncertainty_qubits, mu=mu, sigma=sigma, low=low, high=high) \n"
   ]
  },
  {
   "cell_type": "code",
   "execution_count": 12,
   "metadata": {
    "ExecuteTime": {
     "end_time": "2019-04-26T20:28:33.032105Z",
     "start_time": "2019-04-26T20:28:31.822688Z"
    }
   },
   "outputs": [
    {
     "name": "stdout",
     "output_type": "stream",
     "text": [
      "[0.25296084 0.32523078 0.39750072 0.46977067 0.54204061 0.61431055\n",
      " 0.68658049 0.75885044]\n",
      "[1.51450034e-04 1.89272765e-02 1.70834384e-01 3.47661274e-01\n",
      " 2.84274833e-01 1.29171948e-01 3.96609878e-02 9.31784665e-03]\n"
     ]
    },
    {
     "data": {
      "image/png": "[encoded data removed]",
      "text/plain": [
       "<Figure size 432x288 with 1 Axes>"
      ]
     },
     "metadata": {
      "needs_background": "light"
     },
     "output_type": "display_data"
    },
    {
     "name": "stdout",
     "output_type": "stream",
     "text": [
      "- probabilities: [0.01892728 0.17083438 0.34766127 0.28427483 0.12917195]\n",
      "- target: 1    1.0\n",
      "2    0.0\n",
      "3    0.0\n",
      "4    0.0\n",
      "5    1.0\n",
      "Name: target_frank, dtype: float64\n",
      "- rounded probability: [0.0, 0.0, 0.0, 0.0, 0.0]\n",
      "- accuracy:  1.1978773613157485e-05\n",
      "- frank vs elizabeth corr: [[nan nan]\n",
      " [nan nan]]\n",
      "Writing predictions to predictions.csv\n",
      "\n",
      "Writing predictions to predictions_2019-04-26_20h28m32s.csv\n"
     ]
    }
   ],
   "source": [
    "# plot probability distribution\n",
    "import time\n",
    "x= uncertainty_model.values\n",
    "print(x[:10])\n",
    "\n",
    "y = uncertainty_model.probabilities \n",
    "print(y[:10])\n",
    "\n",
    "\n",
    "plt.bar(x, y, width=0.2)\n",
    "plt.xticks(x, size=10, rotation=90)\n",
    "plt.yticks(y,size=10)\n",
    "plt.grid()\n",
    "plt.xlabel('Spot Price at Maturity $S_T$ (\\$)', size=15)\n",
    "plt.ylabel('Probability ($\\%$)', size=15)\n",
    "plt.show()\n",
    "\n",
    "# y_prediction = uncertainty_model.probabilities\n",
    "# evaluate = model.evaluate(x_prediction,y_prediction)\n",
    "\n",
    "probabilities = uncertainty_model.probabilities\n",
    "print(\"- probabilities:\", probabilities[1:6])\n",
    "\n",
    "# We can see the probability does seem to be good at predicting the\n",
    "# true target correctly.\n",
    "print(\"- target:\", prediction_data['target_frank'][1:6])\n",
    "print(\"- rounded probability:\", [np.round(p) for p in probabilities][1:6])\n",
    "\n",
    "# But overall the accuracy is very low.\n",
    "correct = [\n",
    "np.round(x) == y\n",
    "for (x, y) in zip(probabilities, prediction_data['target_frank'])]\n",
    "print(\"- accuracy: \", sum(correct) / float(prediction_data.shape[0]))\n",
    "\n",
    "tournament_corr = np.corrcoef(prediction_data['target_frank'],\n",
    "                              prediction_data['target_elizabeth'])\n",
    "print(\"- frank vs elizabeth corr:\", tournament_corr)\n",
    "\n",
    "results = y\n",
    "results_df = pd.DataFrame(data={'probability_frank':results})\n",
    "\n",
    "joined = pd.DataFrame(ids).join(results_df)\n",
    "pd.DataFrame(joined[:5])\n",
    "\n",
    "\n",
    "print(\"Writing predictions to predictions.csv\")\n",
    "path = 'predictions_{:}'.format(time.strftime(\"%Y-%m-%d_%Hh%Mm%Ss\", time.gmtime())) + '.csv'\n",
    "print()\n",
    "print(\"Writing predictions to \" + path.strip())\n",
    "joined.to_csv(path,float_format='%.15f', index=False)\n"
   ]
  },
  {
   "cell_type": "markdown",
   "metadata": {},
   "source": [
    "### Payoff Function\n",
    "\n",
    "The payoff function equals zero as long as the spot price at maturity $S_T$ is less than the strike price $K$ and then increases linearly.\n",
    "The implementation uses a comparator, that flips an ancilla qubit from $\\big|0\\rangle$ to $\\big|1\\rangle$ if $S_T \\geq K$, and this ancilla is used to control the linear part of the payoff function.\n",
    "\n",
    "The linear part itself is then approximated as follows.\n",
    "We exploit the fact that $\\sin^2(y + \\pi/4) \\approx y + 1/2$ for small $|y|$.\n",
    "Thus, for a given approximation scaling factor $c_{approx} \\in [0, 1]$ and $x \\in [0, 1]$ we consider\n",
    "$$ \\sin^2( \\pi/2 * c_{approx} * ( x - 1/2 ) + \\pi/4) \\approx \\pi/2 * c_{approx} * ( x - 1/2 ) + 1/2 $$ for small $c_{approx}$.\n",
    "\n",
    "We can easily construct an operator that acts as \n",
    "$$\\big|x\\rangle \\big|0\\rangle \\mapsto \\big|x\\rangle \\left( \\cos(a*x+b) \\big|0\\rangle + \\sin(a*x+b) \\big|1\\rangle \\right),$$\n",
    "using controlled Y-rotations.\n",
    "\n",
    "Eventually, we are interested in the probability of measuring $\\big|1\\rangle$ in the last qubit, which corresponds to\n",
    "$\\sin^2(a*x+b)$.\n",
    "Together with the approximation above, this allows to approximate the values of interest.\n",
    "The smaller we choose $c_{approx}$, the better the approximation.\n",
    "However, since we are then estimating a property scaled by $c_{approx}$, the number of evaluation qubits $m$ needs to be adjusted accordingly.\n",
    "\n",
    "For more details on the approximation, we refer to:\n",
    "<a href=\"https://arxiv.org/abs/1806.06893\">Quantum Risk Analysis. Woerner, Egger. 2018.</a>"
   ]
  },
  {
   "cell_type": "code",
   "execution_count": 25,
   "metadata": {
    "ExecuteTime": {
     "end_time": "2019-04-26T20:32:28.882552Z",
     "start_time": "2019-04-26T20:32:28.877565Z"
    }
   },
   "outputs": [],
   "source": [
    "# set the strike price (should be within the low and the high value of the uncertainty)\n",
    "strike_price = 0\n",
    "\n",
    "# set the approximation scaling for the payoff function\n",
    "c_approx = 1.0\n",
    "\n",
    "# construct circuit factory for payoff function\n",
    "european_call = EuropeanCallExpectedValue(\n",
    "    uncertainty_model,\n",
    "    strike_price=strike_price,\n",
    "    c_approx=c_approx\n",
    ")"
   ]
  },
  {
   "cell_type": "code",
   "execution_count": 27,
   "metadata": {
    "ExecuteTime": {
     "end_time": "2019-04-26T20:32:42.139303Z",
     "start_time": "2019-04-26T20:32:42.005689Z"
    }
   },
   "outputs": [
    {
     "name": "stdout",
     "output_type": "stream",
     "text": [
      "[0.25296084 0.32523078 0.39750072 0.46977067 0.54204061 0.61431055\n",
      " 0.68658049 0.75885044]\n",
      "[0.25296084 0.32523078 0.39750072 0.46977067 0.54204061 0.61431055\n",
      " 0.68658049 0.75885044]\n"
     ]
    },
    {
     "data": {
      "image/png": "[encoded data removed]",
      "text/plain": [
       "<Figure size 432x288 with 1 Axes>"
      ]
     },
     "metadata": {
      "needs_background": "light"
     },
     "output_type": "display_data"
    }
   ],
   "source": [
    "# plot exact payoff function (evaluated on the grid of the uncertainty model)\n",
    "x = uncertainty_model.values\n",
    "print(x)\n",
    "y = np.maximum(0, x - strike_price)\n",
    "print(y)\n",
    "\n",
    "plt.plot(x, y, 'ro-')\n",
    "plt.grid()\n",
    "plt.title('Payoff Function', size=15)\n",
    "plt.xlabel('Spot Price', size=15)\n",
    "plt.ylabel('Payoff', size=15)\n",
    "plt.xticks(x, size=15, rotation=90)\n",
    "plt.yticks(size=15)\n",
    "plt.show()"
   ]
  },
  {
   "cell_type": "code",
   "execution_count": 28,
   "metadata": {
    "ExecuteTime": {
     "end_time": "2019-04-26T20:32:46.392615Z",
     "start_time": "2019-04-26T20:32:46.381616Z"
    }
   },
   "outputs": [
    {
     "name": "stdout",
     "output_type": "stream",
     "text": [
      "exact (normalized) expected value:\t0.5052\n",
      "exact (normalized) delta value:   \t1.0000\n"
     ]
    }
   ],
   "source": [
    "# evaluate exact expected value (normalized to the [0, 1] interval)\n",
    "exact_value = np.dot(uncertainty_model.probabilities, y)\n",
    "exact_delta = sum(uncertainty_model.probabilities[x >= strike_price])\n",
    "print('exact (normalized) expected value:\\t%.4f' % exact_value)\n",
    "print('exact (normalized) delta value:   \\t%.4f' % exact_delta)"
   ]
  },
  {
   "cell_type": "markdown",
   "metadata": {},
   "source": [
    "### Evaluate Expected Payoff"
   ]
  },
  {
   "cell_type": "code",
   "execution_count": 29,
   "metadata": {
    "ExecuteTime": {
     "end_time": "2019-04-26T20:32:48.172666Z",
     "start_time": "2019-04-26T20:32:48.168657Z"
    }
   },
   "outputs": [],
   "source": [
    "# set number of evaluation qubits (samples)\n",
    "m = 5\n",
    "\n",
    "# construct amplitude estimation \n",
    "ae = AmplitudeEstimation(m, european_call)"
   ]
  },
  {
   "cell_type": "code",
   "execution_count": 30,
   "metadata": {
    "ExecuteTime": {
     "end_time": "2019-04-26T20:33:19.373439Z",
     "start_time": "2019-04-26T20:32:50.633196Z"
    }
   },
   "outputs": [],
   "source": [
    "# result = ae.run(quantum_instance=BasicAer.get_backend('qasm_simulator'), shots=100)\n",
    "result = ae.run(quantum_instance=BasicAer.get_backend('statevector_simulator'))"
   ]
  },
  {
   "cell_type": "code",
   "execution_count": 31,
   "metadata": {
    "ExecuteTime": {
     "end_time": "2019-04-26T20:33:19.387281Z",
     "start_time": "2019-04-26T20:33:19.375285Z"
    }
   },
   "outputs": [
    {
     "name": "stdout",
     "output_type": "stream",
     "text": [
      "Exact value:    \t0.5052\n",
      "Estimated value:\t0.5381\n",
      "Probability:    \t0.7606\n"
     ]
    },
    {
     "data": {
      "text/plain": [
       "{'statevector': array([[0.+0.j, 0.+0.j, 0.+0.j, ..., 0.+0.j, 0.+0.j, 0.+0.j]]),\n",
       " 'a_items': [(0.0, 0.0007891754737387211),\n",
       "  (0.009607359798384776, 0.0016088659988895977),\n",
       "  (0.03806023374435662, 0.0017057029844860612),\n",
       "  (0.08426519384872735, 0.0018868518502480052),\n",
       "  (0.14644660940672624, 0.0021909214679683093),\n",
       "  (0.22221488349019888, 0.0026976004198234387),\n",
       "  (0.3086582838174551, 0.0035827071113999683),\n",
       "  (0.40245483899193585, 0.005290136550561941),\n",
       "  (0.5000000000000001, 0.009217724908645843),\n",
       "  (0.597545161008064, 0.021876605656612213),\n",
       "  (0.6913417161825449, 0.12175418657369974),\n",
       "  (0.777785116509801, 0.7606356513525248),\n",
       "  (0.8535533905932737, 0.038538364314000345),\n",
       "  (0.9157348061512728, 0.013152081078913025),\n",
       "  (0.9619397662556434, 0.007307738776497633),\n",
       "  (0.9903926402016151, 0.005345666247108277),\n",
       "  (1.0, 0.002420019235721327)],\n",
       " 'y_items': [(0, 0.0007891754737387211),\n",
       "  (1, 0.0008044329994447941),\n",
       "  (2, 0.000852851492243051),\n",
       "  (3, 0.0009434259251240131),\n",
       "  (4, 0.0010954607339841713),\n",
       "  (5, 0.0013488002099117386),\n",
       "  (6, 0.001791353555700058),\n",
       "  (7, 0.0026450682752811095),\n",
       "  (8, 0.004608862454323168),\n",
       "  (9, 0.010938302828306767),\n",
       "  (10, 0.060877093286855324),\n",
       "  (11, 0.38031782567625366),\n",
       "  (12, 0.01926918215700101),\n",
       "  (13, 0.006576040539456885),\n",
       "  (14, 0.0036538693882489657),\n",
       "  (15, 0.002672833123554153),\n",
       "  (16, 0.002420019235721327),\n",
       "  (17, 0.0026728331235541247),\n",
       "  (18, 0.003653869388248667),\n",
       "  (19, 0.0065760405394561395),\n",
       "  (20, 0.019269182156999336),\n",
       "  (21, 0.38031782567627115),\n",
       "  (22, 0.06087709328684442),\n",
       "  (23, 0.010938302828305446),\n",
       "  (24, 0.004608862454322676),\n",
       "  (25, 0.0026450682752808307),\n",
       "  (26, 0.0017913535556999102),\n",
       "  (27, 0.0013488002099117003),\n",
       "  (28, 0.0010954607339841381),\n",
       "  (29, 0.0009434259251239921),\n",
       "  (30, 0.0008528514922430102),\n",
       "  (31, 0.0008044329994448036)],\n",
       " 'mapped_values': [0.1444380748562031,\n",
       "  0.1493002944907321,\n",
       "  0.16370010102052818,\n",
       "  0.18708411795615584,\n",
       "  0.21855371064068688,\n",
       "  0.2568995202756054,\n",
       "  0.30064793890121944,\n",
       "  0.3481177393241424,\n",
       "  0.3974846837354923,\n",
       "  0.446851628146842,\n",
       "  0.494321428569765,\n",
       "  0.538069847195379,\n",
       "  0.5764156568302976,\n",
       "  0.6078852495148287,\n",
       "  0.6312692664504564,\n",
       "  0.6456690729802524,\n",
       "  0.6505312926147814],\n",
       " 'values': [0.0,\n",
       "  0.009607359798384776,\n",
       "  0.03806023374435662,\n",
       "  0.08426519384872735,\n",
       "  0.14644660940672624,\n",
       "  0.22221488349019888,\n",
       "  0.3086582838174551,\n",
       "  0.40245483899193585,\n",
       "  0.5000000000000001,\n",
       "  0.597545161008064,\n",
       "  0.6913417161825449,\n",
       "  0.777785116509801,\n",
       "  0.8535533905932737,\n",
       "  0.9157348061512728,\n",
       "  0.9619397662556434,\n",
       "  0.9903926402016151,\n",
       "  1.0],\n",
       " 'y_values': [0,\n",
       "  1,\n",
       "  2,\n",
       "  3,\n",
       "  4,\n",
       "  5,\n",
       "  6,\n",
       "  7,\n",
       "  8,\n",
       "  9,\n",
       "  10,\n",
       "  11,\n",
       "  12,\n",
       "  13,\n",
       "  14,\n",
       "  15,\n",
       "  16,\n",
       "  17,\n",
       "  18,\n",
       "  19,\n",
       "  20,\n",
       "  21,\n",
       "  22,\n",
       "  23,\n",
       "  24,\n",
       "  25,\n",
       "  26,\n",
       "  27,\n",
       "  28,\n",
       "  29,\n",
       "  30,\n",
       "  31],\n",
       " 'probabilities': [0.0007891754737387211,\n",
       "  0.0016088659988895977,\n",
       "  0.0017057029844860612,\n",
       "  0.0018868518502480052,\n",
       "  0.0021909214679683093,\n",
       "  0.0026976004198234387,\n",
       "  0.0035827071113999683,\n",
       "  0.005290136550561941,\n",
       "  0.009217724908645843,\n",
       "  0.021876605656612213,\n",
       "  0.12175418657369974,\n",
       "  0.7606356513525248,\n",
       "  0.038538364314000345,\n",
       "  0.013152081078913025,\n",
       "  0.007307738776497633,\n",
       "  0.005345666247108277,\n",
       "  0.002420019235721327],\n",
       " 'mapped_items': [(0.1444380748562031, 0.0007891754737387211),\n",
       "  (0.1493002944907321, 0.0016088659988895977),\n",
       "  (0.16370010102052818, 0.0017057029844860612),\n",
       "  (0.18708411795615584, 0.0018868518502480052),\n",
       "  (0.21855371064068688, 0.0021909214679683093),\n",
       "  (0.2568995202756054, 0.0026976004198234387),\n",
       "  (0.30064793890121944, 0.0035827071113999683),\n",
       "  (0.3481177393241424, 0.005290136550561941),\n",
       "  (0.3974846837354923, 0.009217724908645843),\n",
       "  (0.446851628146842, 0.021876605656612213),\n",
       "  (0.494321428569765, 0.12175418657369974),\n",
       "  (0.538069847195379, 0.7606356513525248),\n",
       "  (0.5764156568302976, 0.038538364314000345),\n",
       "  (0.6078852495148287, 0.013152081078913025),\n",
       "  (0.6312692664504564, 0.007307738776497633),\n",
       "  (0.6456690729802524, 0.005345666247108277),\n",
       "  (0.6505312926147814, 0.002420019235721327)],\n",
       " 'estimation': 0.538069847195379,\n",
       " 'max_probability': 0.7606356513525248}"
      ]
     },
     "execution_count": 31,
     "metadata": {},
     "output_type": "execute_result"
    }
   ],
   "source": [
    "print('Exact value:    \\t%.4f' % exact_value)\n",
    "print('Estimated value:\\t%.4f' % result['estimation'])\n",
    "print('Probability:    \\t%.4f' % result['max_probability'])\n",
    "result"
   ]
  },
  {
   "cell_type": "code",
   "execution_count": 18,
   "metadata": {
    "ExecuteTime": {
     "end_time": "2019-04-25T18:16:16.459278Z",
     "start_time": "2019-04-25T18:16:16.202970Z"
    }
   },
   "outputs": [
    {
     "data": {
      "image/png": "[encoded data removed]",
      "text/plain": [
       "<Figure size 432x288 with 1 Axes>"
      ]
     },
     "metadata": {
      "needs_background": "light"
     },
     "output_type": "display_data"
    },
    {
     "data": {
      "image/png": "[encoded data removed]",
      "text/plain": [
       "<Figure size 432x288 with 1 Axes>"
      ]
     },
     "metadata": {
      "needs_background": "light"
     },
     "output_type": "display_data"
    }
   ],
   "source": [
    "# plot estimated values for \"a\"\n",
    "plt.bar(result['values'], result['probabilities'], width=0.5/len(result['probabilities']))\n",
    "plt.xticks([0, 0.25, 0.5, 0.75, 1], size=15)\n",
    "plt.yticks([0, 0.25, 0.5, 0.75, 1], size=15)\n",
    "plt.title('\"a\" Value', size=15)\n",
    "plt.ylabel('Probability', size=15)\n",
    "plt.ylim((0,1))\n",
    "plt.grid()\n",
    "plt.show()\n",
    "\n",
    "# plot estimated values for option price (after re-scaling and reversing the c_approx-transformation)\n",
    "plt.bar(result['mapped_values'], result['probabilities'], width=1/len(result['probabilities']))\n",
    "plt.plot([exact_value, exact_value], [0,1], 'r--', linewidth=2)\n",
    "plt.xticks(size=15)\n",
    "plt.yticks([0, 0.25, 0.5, 0.75, 1], size=15)\n",
    "plt.title('Estimated Option Price', size=15)\n",
    "plt.ylabel('Probability', size=15)\n",
    "plt.ylim((0,1))\n",
    "plt.grid()\n",
    "plt.show()"
   ]
  },
  {
   "cell_type": "markdown",
   "metadata": {},
   "source": [
    "### Evaluate Delta\n",
    "\n",
    "The Delta is a bit simplier to evaluate than the expected payoff.\n",
    "Similarly to the expected payoff, we use a comparator circuit and an ancilla qubit to identify the cases where $S_T \\geq K$.\n",
    "However, since we are only interested in the probability of this condition being true, we can directly use this ancilla qubit as the objective qubit in amplitude estimation without any futher approximation."
   ]
  },
  {
   "cell_type": "code",
   "execution_count": 19,
   "metadata": {
    "ExecuteTime": {
     "end_time": "2019-04-25T18:16:24.920368Z",
     "start_time": "2019-04-25T18:16:24.916407Z"
    }
   },
   "outputs": [],
   "source": [
    "european_call_delta = EuropeanCallDelta(\n",
    "    uncertainty_model,\n",
    "    strike_price\n",
    ")"
   ]
  },
  {
   "cell_type": "code",
   "execution_count": 20,
   "metadata": {
    "ExecuteTime": {
     "end_time": "2019-04-25T18:16:25.916757Z",
     "start_time": "2019-04-25T18:16:25.912795Z"
    }
   },
   "outputs": [],
   "source": [
    "# set number of evaluation qubits (=log(samples)\n",
    "m = 5\n",
    "\n",
    "# construct amplitude estimation \n",
    "ae_delta = AmplitudeEstimation(m, european_call_delta)"
   ]
  },
  {
   "cell_type": "code",
   "execution_count": 21,
   "metadata": {
    "ExecuteTime": {
     "end_time": "2019-04-25T18:16:36.956092Z",
     "start_time": "2019-04-25T18:16:28.819824Z"
    }
   },
   "outputs": [],
   "source": [
    "# result_delta = ae_delta.run(quantum_instance=BasicAer.get_backend('qasm_simulator'), shots=100)\n",
    "result_delta = ae_delta.run(quantum_instance=BasicAer.get_backend('statevector_simulator'))"
   ]
  },
  {
   "cell_type": "code",
   "execution_count": 24,
   "metadata": {
    "ExecuteTime": {
     "end_time": "2019-04-25T18:17:23.679593Z",
     "start_time": "2019-04-25T18:17:23.675605Z"
    }
   },
   "outputs": [
    {
     "name": "stdout",
     "output_type": "stream",
     "text": [
      "Exact delta:   \t1.0000\n",
      "Esimated value:\t1.0000\n",
      "Probability:   \t1.0000\n",
      "{'statevector': array([[0.+0.j, 0.+0.j, 0.+0.j, ..., 0.+0.j, 0.+0.j, 0.+0.j]]), 'a_items': [(1.0, 1.0000000000002902)], 'y_items': [(16, 1.0000000000002902)], 'mapped_values': [1.0], 'values': [1.0], 'y_values': [16], 'probabilities': [1.0000000000002902], 'mapped_items': [(1.0, 1.0000000000002902)], 'estimation': 1.0, 'max_probability': 1.0000000000002902}\n"
     ]
    }
   ],
   "source": [
    "print('Exact delta:   \\t%.4f' % exact_delta)\n",
    "print('Esimated value:\\t%.4f' % result_delta['estimation'])\n",
    "print('Probability:   \\t%.4f' % result_delta['max_probability'])\n",
    "\n",
    "print(result_delta)"
   ]
  },
  {
   "cell_type": "code",
   "execution_count": 23,
   "metadata": {
    "ExecuteTime": {
     "end_time": "2019-04-25T18:16:52.721497Z",
     "start_time": "2019-04-25T18:16:52.610795Z"
    }
   },
   "outputs": [
    {
     "data": {
      "image/png": "[encoded data removed]",
      "text/plain": [
       "<Figure size 432x288 with 1 Axes>"
      ]
     },
     "metadata": {
      "needs_background": "light"
     },
     "output_type": "display_data"
    }
   ],
   "source": [
    "# plot estimated values for delta\n",
    "plt.bar(result_delta['values'], result_delta['probabilities'], width=0.5/len(result_delta['probabilities']))\n",
    "plt.plot([exact_delta, exact_delta], [0,1], 'r--', linewidth=2)\n",
    "plt.xticks(size=15)\n",
    "plt.yticks([0, 0.25, 0.5, 0.75, 1], size=15)\n",
    "plt.title('Estimated Option Delta', size=15)\n",
    "plt.ylabel('Probability', size=15)\n",
    "plt.ylim((0,1))\n",
    "plt.grid()\n",
    "plt.show()"
   ]
  },
  {
   "cell_type": "code",
   "execution_count": null,
   "metadata": {
    "collapsed": true
   },
   "outputs": [],
   "source": [
    "y_prediction = model.predict(x_prediction)\n",
    "evaluate = model.evaluate(x_prediction,y_prediction)\n",
    "\n",
    "probabilities = y_prediction[:, 1]\n",
    "print(\"- probabilities:\", probabilities[1:6])\n",
    "\n",
    "# We can see the probability does seem to be good at predicting the\n",
    "# true target correctly.\n",
    "print(\"- target:\", prediction_data['target_frank'][1:6])\n",
    "print(\"- rounded probability:\", [np.round(p) for p in probabilities][1:6])\n",
    "\n",
    "# But overall the accuracy is very low.\n",
    "correct = [\n",
    "np.round(x) == y\n",
    "for (x, y) in zip(probabilities, prediction_data['target_frank'])]\n",
    "print(\"- accuracy: \", sum(correct) / float(prediction_data.shape[0]))\n",
    "\n",
    "tournament_corr = np.corrcoef(prediction_data['target_frank'],\n",
    "                              prediction_data['target_elizabeth'])\n",
    "print(\"- frank vs elizabeth corr:\", tournament_corr)"
   ]
  }
 ],
 "metadata": {
  "kernelspec": {
   "display_name": "Python 3",
   "language": "python",
   "name": "python3"
  },
  "language_info": {
   "codemirror_mode": {
    "name": "ipython",
    "version": 3
   },
   "file_extension": ".py",
   "mimetype": "text/x-python",
   "name": "python",
   "nbconvert_exporter": "python",
   "pygments_lexer": "ipython3",
   "version": "3.7.3"
  },
  "latex_envs": {
   "LaTeX_envs_menu_present": true,
   "autoclose": false,
   "autocomplete": true,
   "bibliofile": "biblio.bib",
   "cite_by": "apalike",
   "current_citInitial": 1,
   "eqLabelWithNumbers": true,
   "eqNumInitial": 1,
   "hotkeys": {
    "equation": "Ctrl-E",
    "itemize": "Ctrl-I"
   },
   "labels_anchors": false,
   "latex_user_defs": false,
   "report_style_numbering": true,
   "user_envs_cfg": false
  }
 },
 "nbformat": 4,
 "nbformat_minor": 1
}
